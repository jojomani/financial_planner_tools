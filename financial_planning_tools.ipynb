{
 "cells": [
  {
   "cell_type": "markdown",
   "metadata": {},
   "source": [
    "# Financial Planning with APIs and Simulations\n",
    "\n",
    "In this Challenge, you’ll create two financial analysis tools by using a single Jupyter notebook:\n",
    "\n",
    "Part 1: A financial planner for emergencies. The members will be able to use this tool to visualize their current savings. The members can then determine if they have enough reserves for an emergency fund.\n",
    "\n",
    "Part 2: A financial planner for retirement. This tool will forecast the performance of their retirement portfolio in 30 years. To do this, the tool will make an Alpaca API call via the Alpaca SDK to get historical price data for use in Monte Carlo simulations.\n",
    "\n",
    "You’ll use the information from the Monte Carlo simulation to answer questions about the portfolio in your Jupyter notebook.\n",
    "\n"
   ]
  },
  {
   "cell_type": "code",
   "execution_count": 1,
   "metadata": {},
   "outputs": [],
   "source": [
    "# Import the required libraries and dependencies\n",
    "import os\n",
    "import requests\n",
    "import json\n",
    "import pandas as pd\n",
    "from dotenv import load_dotenv\n",
    "import alpaca_trade_api as tradeapi\n",
    "from MCForecastTools import MCSimulation\n",
    "\n",
    "%matplotlib inline"
   ]
  },
  {
   "cell_type": "code",
   "execution_count": 2,
   "metadata": {},
   "outputs": [
    {
     "data": {
      "text/plain": [
       "True"
      ]
     },
     "execution_count": 2,
     "metadata": {},
     "output_type": "execute_result"
    }
   ],
   "source": [
    "# Load the environment variables from the .env file\n",
    "#by calling the load_dotenv function\n",
    "load_dotenv(\"/Users/johannmaiga/Downloads/MyFiles/FinTech Class/.api_keys\")"
   ]
  },
  {
   "cell_type": "markdown",
   "metadata": {},
   "source": [
    "## Part 1: Create a Financial Planner for Emergencies"
   ]
  },
  {
   "cell_type": "markdown",
   "metadata": {},
   "source": [
    "### Evaluate the Cryptocurrency Wallet by Using the Requests Library\n",
    "\n",
    "In this section, you’ll determine the current value of a member’s cryptocurrency wallet. You’ll collect the current prices for the Bitcoin and Ethereum cryptocurrencies by using the Python Requests library. For the prototype, you’ll assume that the member holds the 1.2 Bitcoins (BTC) and 5.3 Ethereum coins (ETH). To do all this, complete the following steps:\n",
    "\n",
    "1. Create a variable named `monthly_income`, and set its value to `12000`.\n",
    "\n",
    "2. Use the Requests library to get the current price (in US dollars) of Bitcoin (BTC) and Ethereum (ETH) by using the API endpoints that the starter code supplies.\n",
    "\n",
    "3. Navigate the JSON response object to access the current price of each coin, and store each in a variable.\n",
    "\n",
    "    > **Hint** Note the specific identifier for each cryptocurrency in the API JSON response. The Bitcoin identifier is `1`, and the Ethereum identifier is `1027`.\n",
    "\n",
    "4. Calculate the value, in US dollars, of the current amount of each cryptocurrency and of the entire cryptocurrency wallet.\n",
    "\n"
   ]
  },
  {
   "cell_type": "code",
   "execution_count": 3,
   "metadata": {},
   "outputs": [],
   "source": [
    "# The current number of coins for each cryptocurrency asset held in the portfolio.\n",
    "btc_coins = 1.2\n",
    "eth_coins = 5.3"
   ]
  },
  {
   "cell_type": "markdown",
   "metadata": {},
   "source": [
    "#### Step 1: Create a variable named `monthly_income`, and set its value to `12000`."
   ]
  },
  {
   "cell_type": "code",
   "execution_count": 4,
   "metadata": {},
   "outputs": [],
   "source": [
    "# The monthly amount for the member's household income\n",
    "monthly_income = 12000\n"
   ]
  },
  {
   "cell_type": "markdown",
   "metadata": {},
   "source": [
    "#### Review the endpoint URLs for the API calls to Free Crypto API in order to get the current pricing information for both BTC and ETH."
   ]
  },
  {
   "cell_type": "code",
   "execution_count": 5,
   "metadata": {},
   "outputs": [],
   "source": [
    "# The Free Crypto API Call endpoint URLs for the held cryptocurrency assets\n",
    "btc_url = \"https://api.alternative.me/v2/ticker/Bitcoin/?convert=USD\"\n",
    "eth_url = \"https://api.alternative.me/v2/ticker/Ethereum/?convert=USD\""
   ]
  },
  {
   "cell_type": "markdown",
   "metadata": {},
   "source": [
    "#### Step 2. Use the Requests library to get the current price (in US dollars) of Bitcoin (BTC) and Ethereum (ETH) by using the API endpoints that the starter code supplied."
   ]
  },
  {
   "cell_type": "code",
   "execution_count": 6,
   "metadata": {},
   "outputs": [
    {
     "name": "stdout",
     "output_type": "stream",
     "text": [
      "{\n",
      "   \"data\": {\n",
      "      \"1\": {\n",
      "         \"circulating_supply\": 18852912,\n",
      "         \"id\": 1,\n",
      "         \"last_updated\": 1635090262,\n",
      "         \"max_supply\": 21000000,\n",
      "         \"name\": \"Bitcoin\",\n",
      "         \"quotes\": {\n",
      "            \"USD\": {\n",
      "               \"market_cap\": 1134410481470,\n",
      "               \"percent_change_1h\": -0.624201245083,\n",
      "               \"percent_change_24h\": -2.03924925433457,\n",
      "               \"percent_change_7d\": -1.77981087713733,\n",
      "               \"percentage_change_1h\": -0.624201245083,\n",
      "               \"percentage_change_24h\": -2.03924925433457,\n",
      "               \"percentage_change_7d\": -1.77981087713733,\n",
      "               \"price\": 60077.0,\n",
      "               \"volume_24h\": 28599012231\n",
      "            }\n",
      "         },\n",
      "         \"rank\": 1,\n",
      "         \"symbol\": \"BTC\",\n",
      "         \"total_supply\": 18852912,\n",
      "         \"website_slug\": \"bitcoin\"\n",
      "      }\n",
      "   },\n",
      "   \"metadata\": {\n",
      "      \"error\": null,\n",
      "      \"num_cryptocurrencies\": 3105,\n",
      "      \"timestamp\": 1635090262\n",
      "   }\n",
      "}\n"
     ]
    }
   ],
   "source": [
    "# Using the Python requests library, make an API call to access the current price of BTC\n",
    "btc_response = requests.get(btc_url).json()\n",
    "\n",
    "# Use the json.dumps function to review the response data from the API call\n",
    "# Use the indent and sort_keys parameters to make the response object readable\n",
    "print(json.dumps(btc_response, indent=3, sort_keys=1)) \n"
   ]
  },
  {
   "cell_type": "code",
   "execution_count": 7,
   "metadata": {},
   "outputs": [
    {
     "name": "stdout",
     "output_type": "stream",
     "text": [
      "{\n",
      "   \"data\": {\n",
      "      \"1027\": {\n",
      "         \"circulating_supply\": 118058664,\n",
      "         \"id\": 1027,\n",
      "         \"last_updated\": 1635090271,\n",
      "         \"max_supply\": 0,\n",
      "         \"name\": \"Ethereum\",\n",
      "         \"quotes\": {\n",
      "            \"USD\": {\n",
      "               \"market_cap\": 475367196884,\n",
      "               \"percent_change_1h\": -0.759918760504133,\n",
      "               \"percent_change_24h\": -2.18795470814858,\n",
      "               \"percent_change_7d\": 4.12483290846378,\n",
      "               \"percentage_change_1h\": -0.759918760504133,\n",
      "               \"percentage_change_24h\": -2.18795470814858,\n",
      "               \"percentage_change_7d\": 4.12483290846378,\n",
      "               \"price\": 4013.49,\n",
      "               \"volume_24h\": 16636006332\n",
      "            }\n",
      "         },\n",
      "         \"rank\": 2,\n",
      "         \"symbol\": \"ETH\",\n",
      "         \"total_supply\": 118058664,\n",
      "         \"website_slug\": \"ethereum\"\n",
      "      }\n",
      "   },\n",
      "   \"metadata\": {\n",
      "      \"error\": null,\n",
      "      \"num_cryptocurrencies\": 3105,\n",
      "      \"timestamp\": 1635090271\n",
      "   }\n",
      "}\n"
     ]
    }
   ],
   "source": [
    "# Using the Python requests library, make an API call to access the current price ETH\n",
    "eth_response = requests.get(eth_url).json()\n",
    "\n",
    "# Use the json.dumps function to review the response data from the API call\n",
    "# Use the indent and sort_keys parameters to make the response object readable\n",
    "print(json.dumps(eth_response, indent=3, sort_keys=1))\n"
   ]
  },
  {
   "cell_type": "markdown",
   "metadata": {},
   "source": [
    "#### Step 3: Navigate the JSON response object to access the current price of each coin, and store each in a variable."
   ]
  },
  {
   "cell_type": "code",
   "execution_count": 8,
   "metadata": {},
   "outputs": [
    {
     "name": "stdout",
     "output_type": "stream",
     "text": [
      "$60077.0\n"
     ]
    }
   ],
   "source": [
    "# Navigate the BTC response object to access the current price of BTC\n",
    "btc_price = btc_response[\"data\"][\"1\"][\"quotes\"][\"USD\"][\"price\"]\n",
    "# Print the current price of BTC\n",
    "print(f\"${btc_price}\")\n"
   ]
  },
  {
   "cell_type": "code",
   "execution_count": 9,
   "metadata": {},
   "outputs": [
    {
     "name": "stdout",
     "output_type": "stream",
     "text": [
      "$4013.49\n"
     ]
    }
   ],
   "source": [
    "# Navigate the BTC response object to access the current price of ETH\n",
    "eth_price = eth_response[\"data\"][\"1027\"][\"quotes\"][\"USD\"][\"price\"]\n",
    "# Print the current price of ETH\n",
    "print(f\"${eth_price}\")\n"
   ]
  },
  {
   "cell_type": "markdown",
   "metadata": {},
   "source": [
    "### Step 4: Calculate the value, in US dollars, of the current amount of each cryptocurrency and of the entire cryptocurrency wallet."
   ]
  },
  {
   "cell_type": "code",
   "execution_count": 10,
   "metadata": {},
   "outputs": [
    {
     "name": "stdout",
     "output_type": "stream",
     "text": [
      "You are currently holding $72092.4 worth of Bitcoin.\n"
     ]
    }
   ],
   "source": [
    "# Compute the current value of the BTC holding \n",
    "btc_value = btc_price * btc_coins\n",
    "\n",
    "# Print current value of your holding in BTC\n",
    "print(f\"You are currently holding ${round(btc_value, 2)} worth of Bitcoin.\")\n"
   ]
  },
  {
   "cell_type": "code",
   "execution_count": 11,
   "metadata": {},
   "outputs": [
    {
     "name": "stdout",
     "output_type": "stream",
     "text": [
      "You are currently holding $21271.5 worth of Ethereum.\n"
     ]
    }
   ],
   "source": [
    "# Compute the current value of the ETH holding \n",
    "eth_value = eth_price * eth_coins\n",
    "\n",
    "# Print current value of your holding in ETH\n",
    "print(f\"You are currently holding ${round(eth_value, 2)} worth of Ethereum.\")\n"
   ]
  },
  {
   "cell_type": "code",
   "execution_count": 12,
   "metadata": {},
   "outputs": [
    {
     "name": "stdout",
     "output_type": "stream",
     "text": [
      "Your total holdings of crypto are worth $93363.9\n"
     ]
    }
   ],
   "source": [
    "# Compute the total value of the cryptocurrency wallet\n",
    "# Add the value of the BTC holding to the value of the ETH holding\n",
    "total_crypto_wallet = btc_value + eth_value\n",
    "\n",
    "# Print current cryptocurrency wallet balance\n",
    "print(f\"Your total holdings of crypto are worth ${round(total_crypto_wallet, 2)}\")\n"
   ]
  },
  {
   "cell_type": "markdown",
   "metadata": {},
   "source": [
    "### Evaluate the Stock and Bond Holdings by Using the Alpaca SDK\n",
    "\n",
    "In this section, you’ll determine the current value of a member’s stock and bond holdings. You’ll make an API call to Alpaca via the Alpaca SDK to get the current closing prices of the SPDR S&P 500 ETF Trust (ticker: SPY) and of the iShares Core US Aggregate Bond ETF (ticker: AGG). For the prototype, assume that the member holds 110 shares of SPY, which represents the stock portion of their portfolio, and 200 shares of AGG, which represents the bond portion. To do all this, complete the following steps:\n",
    "\n",
    "1. In the `Starter_Code` folder, create an environment file (`.env`) to store the values of your Alpaca API key and Alpaca secret key.\n",
    "\n",
    "2. Set the variables for the Alpaca API and secret keys. Using the Alpaca SDK, create the Alpaca `tradeapi.REST` object. In this object, include the parameters for the Alpaca API key, the secret key, and the version number.\n",
    "\n",
    "3. Set the following parameters for the Alpaca API call:\n",
    "\n",
    "    - `tickers`: Use the tickers for the member’s stock and bond holdings.\n",
    "\n",
    "    - `timeframe`: Use a time frame of one day.\n",
    "\n",
    "    - `start_date` and `end_date`: Use the same date for these parameters, and format them with the date of the previous weekday (or `2020-08-07`). This is because you want the one closing price for the most-recent trading day.\n",
    "\n",
    "4. Get the current closing prices for `SPY` and `AGG` by using the Alpaca `get_barset` function. Format the response as a Pandas DataFrame by including the `df` property at the end of the `get_barset` function.\n",
    "\n",
    "5. Navigating the Alpaca response DataFrame, select the `SPY` and `AGG` closing prices, and store them as variables.\n",
    "\n",
    "6. Calculate the value, in US dollars, of the current amount of shares in each of the stock and bond portions of the portfolio, and print the results.\n"
   ]
  },
  {
   "cell_type": "markdown",
   "metadata": {},
   "source": [
    "#### Review the total number of shares held in both (SPY) and (AGG)."
   ]
  },
  {
   "cell_type": "code",
   "execution_count": 13,
   "metadata": {},
   "outputs": [],
   "source": [
    "# Current amount of shares held in both the stock (SPY) and bond (AGG) portion of the portfolio.\n",
    "spy_shares = 110\n",
    "agg_shares = 200\n"
   ]
  },
  {
   "cell_type": "markdown",
   "metadata": {},
   "source": [
    "#### Step 1: In the `Starter_Code` folder, create an environment file (`.env`) to store the values of your Alpaca API key and Alpaca secret key."
   ]
  },
  {
   "cell_type": "markdown",
   "metadata": {},
   "source": [
    "#### Step 2: Set the variables for the Alpaca API and secret keys. Using the Alpaca SDK, create the Alpaca `tradeapi.REST` object. In this object, include the parameters for the Alpaca API key, the secret key, and the version number."
   ]
  },
  {
   "cell_type": "code",
   "execution_count": 14,
   "metadata": {},
   "outputs": [],
   "source": [
    "# Set the variables for the Alpaca API and secret keys\n",
    "alpaca_api_key = os.getenv(\"ALPACA_API_KEY\")\n",
    "alpaca_secret_key = os.getenv(\"ALPACA_SECRET_KEY\")\n",
    "\n",
    "# Create the Alpaca tradeapi.REST object\n",
    "alpaca = tradeapi.REST(\n",
    "    alpaca_api_key,\n",
    "    alpaca_secret_key,\n",
    "    api_version=\"v2\")"
   ]
  },
  {
   "cell_type": "markdown",
   "metadata": {},
   "source": [
    "#### Step 3: Set the following parameters for the Alpaca API call:\n",
    "\n",
    "- `tickers`: Use the tickers for the member’s stock and bond holdings.\n",
    "\n",
    "- `timeframe`: Use a time frame of one day.\n",
    "\n",
    "- `start_date` and `end_date`: Use the same date for these parameters, and format them with the date of the previous weekday (or `2020-08-07`). This is because you want the one closing price for the most-recent trading day.\n"
   ]
  },
  {
   "cell_type": "code",
   "execution_count": 47,
   "metadata": {},
   "outputs": [],
   "source": [
    "# Set the tickers for both the bond and stock portion of the portfolio\n",
    "tickers = [\"SPY\", \"AGG\"]\n",
    "\n",
    "# Set timeframe to 1D \n",
    "timeframe = \"1D\"\n",
    "\n",
    "# Format current date as ISO format\n",
    "# Set both the start and end date at the date of your prior weekday \n",
    "# This will give you the closing price of the previous trading day\n",
    "# Alternatively you can use a start and end date of 2020-08-07\n",
    "start = pd.Timestamp(\"2020-08-07\", tz=\"America/New_York\").isoformat()\n",
    "end = pd.Timestamp(\"2020-08-07\", tz=\"America/New_York\").isoformat()\n"
   ]
  },
  {
   "cell_type": "markdown",
   "metadata": {},
   "source": [
    "#### Step 4: Get the current closing prices for `SPY` and `AGG` by using the Alpaca `get_barset` function. Format the response as a Pandas DataFrame by including the `df` property at the end of the `get_barset` function."
   ]
  },
  {
   "cell_type": "code",
   "execution_count": 48,
   "metadata": {},
   "outputs": [
    {
     "data": {
      "text/html": [
       "<div>\n",
       "<style scoped>\n",
       "    .dataframe tbody tr th:only-of-type {\n",
       "        vertical-align: middle;\n",
       "    }\n",
       "\n",
       "    .dataframe tbody tr th {\n",
       "        vertical-align: top;\n",
       "    }\n",
       "\n",
       "    .dataframe thead tr th {\n",
       "        text-align: left;\n",
       "    }\n",
       "</style>\n",
       "<table border=\"1\" class=\"dataframe\">\n",
       "  <thead>\n",
       "    <tr>\n",
       "      <th></th>\n",
       "      <th colspan=\"5\" halign=\"left\">AGG</th>\n",
       "      <th colspan=\"5\" halign=\"left\">SPY</th>\n",
       "    </tr>\n",
       "    <tr>\n",
       "      <th></th>\n",
       "      <th>open</th>\n",
       "      <th>high</th>\n",
       "      <th>low</th>\n",
       "      <th>close</th>\n",
       "      <th>volume</th>\n",
       "      <th>open</th>\n",
       "      <th>high</th>\n",
       "      <th>low</th>\n",
       "      <th>close</th>\n",
       "      <th>volume</th>\n",
       "    </tr>\n",
       "  </thead>\n",
       "  <tbody>\n",
       "    <tr>\n",
       "      <th>2020-08-07</th>\n",
       "      <td>119.66</td>\n",
       "      <td>119.73</td>\n",
       "      <td>119.395</td>\n",
       "      <td>119.445</td>\n",
       "      <td>8830420</td>\n",
       "      <td>333.28</td>\n",
       "      <td>334.88</td>\n",
       "      <td>332.3</td>\n",
       "      <td>334.55</td>\n",
       "      <td>98710236</td>\n",
       "    </tr>\n",
       "  </tbody>\n",
       "</table>\n",
       "</div>"
      ],
      "text/plain": [
       "               AGG                                        SPY                 \\\n",
       "              open    high      low    close   volume    open    high    low   \n",
       "2020-08-07  119.66  119.73  119.395  119.445  8830420  333.28  334.88  332.3   \n",
       "\n",
       "                              \n",
       "             close    volume  \n",
       "2020-08-07  334.55  98710236  "
      ]
     },
     "execution_count": 48,
     "metadata": {},
     "output_type": "execute_result"
    }
   ],
   "source": [
    "# Use the Alpaca get_barset function to get current closing prices the portfolio\n",
    "# Be sure to set the `df` property after the function to format the response object as a DataFrame\n",
    "df_portfolio = alpaca.get_barset(\n",
    "    tickers,\n",
    "    timeframe,\n",
    "    start = start,\n",
    "    end = end,\n",
    ").df\n",
    "\n",
    "# Review the first 5 rows of the Alpaca DataFrame\n",
    "df_portfolio.index = df_portfolio.index.date\n",
    "df_portfolio.head()\n"
   ]
  },
  {
   "cell_type": "markdown",
   "metadata": {},
   "source": [
    "#### Step 5: Navigating the Alpaca response DataFrame, select the `SPY` and `AGG` closing prices, and store them as variables."
   ]
  },
  {
   "cell_type": "code",
   "execution_count": 17,
   "metadata": {},
   "outputs": [
    {
     "data": {
      "text/plain": [
       "2020-08-07    119.445\n",
       "Name: close, dtype: float64"
      ]
     },
     "execution_count": 17,
     "metadata": {},
     "output_type": "execute_result"
    }
   ],
   "source": [
    "# Access the closing price for AGG from the Alpaca DataFrame\n",
    "# Converting the value to a floating point number\n",
    "agg_close_price = df_portfolio[\"AGG\"][\"close\"]\n",
    "\n",
    "# Print the AGG closing price\n",
    "agg_close_price\n"
   ]
  },
  {
   "cell_type": "code",
   "execution_count": 18,
   "metadata": {},
   "outputs": [
    {
     "data": {
      "text/plain": [
       "2020-08-07    334.55\n",
       "Name: close, dtype: float64"
      ]
     },
     "execution_count": 18,
     "metadata": {},
     "output_type": "execute_result"
    }
   ],
   "source": [
    "# Access the closing price for SPY from the Alpaca DataFrame\n",
    "# Converting the value to a floating point number\n",
    "spy_close_price = df_portfolio[\"SPY\"][\"close\"]\n",
    "\n",
    "# Print the SPY closing price\n",
    "spy_close_price\n"
   ]
  },
  {
   "cell_type": "markdown",
   "metadata": {},
   "source": [
    "#### Step 6: Calculate the value, in US dollars, of the current amount of shares in each of the stock and bond portions of the portfolio, and print the results."
   ]
  },
  {
   "cell_type": "code",
   "execution_count": 19,
   "metadata": {},
   "outputs": [
    {
     "data": {
      "text/plain": [
       "2020-08-07    23889.0\n",
       "Name: close, dtype: float64"
      ]
     },
     "execution_count": 19,
     "metadata": {},
     "output_type": "execute_result"
    }
   ],
   "source": [
    "# Calculate the current value of the bond portion of the portfolio\n",
    "agg_value = agg_close_price * agg_shares\n",
    "\n",
    "# Print the current value of the bond portfolio\n",
    "agg_value\n"
   ]
  },
  {
   "cell_type": "code",
   "execution_count": 20,
   "metadata": {},
   "outputs": [
    {
     "data": {
      "text/plain": [
       "2020-08-07    36800.5\n",
       "Name: close, dtype: float64"
      ]
     },
     "execution_count": 20,
     "metadata": {},
     "output_type": "execute_result"
    }
   ],
   "source": [
    "# Calculate the current value of the stock portion of the portfolio\n",
    "spy_value = spy_close_price * spy_shares\n",
    "\n",
    "# Print the current value of the stock portfolio\n",
    "spy_value\n"
   ]
  },
  {
   "cell_type": "code",
   "execution_count": 21,
   "metadata": {},
   "outputs": [
    {
     "data": {
      "text/plain": [
       "2020-08-07    60689.5\n",
       "Name: close, dtype: float64"
      ]
     },
     "execution_count": 21,
     "metadata": {},
     "output_type": "execute_result"
    }
   ],
   "source": [
    "# Calculate the total value of the stock and bond portion of the portfolio\n",
    "total_stocks_bonds = spy_value + agg_value\n",
    "\n",
    "# Print the current balance of the stock and bond portion of the portfolio\n",
    "total_stocks_bonds\n"
   ]
  },
  {
   "cell_type": "code",
   "execution_count": 79,
   "metadata": {},
   "outputs": [
    {
     "data": {
      "text/plain": [
       "155707.0"
      ]
     },
     "execution_count": 79,
     "metadata": {},
     "output_type": "execute_result"
    }
   ],
   "source": [
    "# Calculate the total value of the member's entire savings portfolio\n",
    "# Add the value of the cryptocurrency walled to the value of the total stocks and bonds\n",
    "total_portfolio = 95017.50 + 60689.5\n",
    "\n",
    "# Also similar to:\n",
    "# total_portfolio = total_crypto_wallet + total_stocks_bonds\n",
    "\n",
    "total_sb = 60689.5\n",
    "\n",
    "# Print current cryptocurrency wallet balance\n",
    "total_portfolio\n"
   ]
  },
  {
   "cell_type": "markdown",
   "metadata": {},
   "source": [
    "### Evaluate the Emergency Fund\n",
    "\n",
    "In this section, you’ll use the valuations for the cryptocurrency wallet and for the stock and bond portions of the portfolio to determine if the credit union member has enough savings to build an emergency fund into their financial plan.\n"
   ]
  },
  {
   "cell_type": "markdown",
   "metadata": {},
   "source": [
    "#### Step 1: Create a Python list named `savings_data` that has two elements. The first element contains the total value of the cryptocurrency wallet. The second element contains the total value of the stock and bond portions of the portfolio."
   ]
  },
  {
   "cell_type": "code",
   "execution_count": 80,
   "metadata": {},
   "outputs": [
    {
     "data": {
      "text/plain": [
       "[93363.897, 60689.5]"
      ]
     },
     "execution_count": 80,
     "metadata": {},
     "output_type": "execute_result"
    }
   ],
   "source": [
    "# Consolidate financial assets data into a Python list\n",
    "savings_data = [total_crypto_wallet, total_sb]\n",
    "\n",
    "# Review the Python list savings_data\n",
    "savings_data\n",
    "    "
   ]
  },
  {
   "cell_type": "markdown",
   "metadata": {},
   "source": [
    "#### Step 2: Use the `savings_data` list to create a Pandas DataFrame named `savings_df`, and then display this DataFrame. The function to create the DataFrame should take the following three parameters:\n",
    "\n",
    "- `savings_data`: Use the list that you just created.\n",
    "\n",
    "- `columns`: Set this parameter equal to a Python list with a single value called `amount`.\n",
    "\n",
    "- `index`: Set this parameter equal to a Python list with the values of `crypto` and `stock/bond`.\n"
   ]
  },
  {
   "cell_type": "code",
   "execution_count": 24,
   "metadata": {},
   "outputs": [
    {
     "data": {
      "text/html": [
       "<div>\n",
       "<style scoped>\n",
       "    .dataframe tbody tr th:only-of-type {\n",
       "        vertical-align: middle;\n",
       "    }\n",
       "\n",
       "    .dataframe tbody tr th {\n",
       "        vertical-align: top;\n",
       "    }\n",
       "\n",
       "    .dataframe thead th {\n",
       "        text-align: right;\n",
       "    }\n",
       "</style>\n",
       "<table border=\"1\" class=\"dataframe\">\n",
       "  <thead>\n",
       "    <tr style=\"text-align: right;\">\n",
       "      <th></th>\n",
       "      <th>amount</th>\n",
       "    </tr>\n",
       "  </thead>\n",
       "  <tbody>\n",
       "    <tr>\n",
       "      <th>crypto</th>\n",
       "      <td>93363.897</td>\n",
       "    </tr>\n",
       "    <tr>\n",
       "      <th>stock/bond</th>\n",
       "      <td>60689.500</td>\n",
       "    </tr>\n",
       "  </tbody>\n",
       "</table>\n",
       "</div>"
      ],
      "text/plain": [
       "               amount\n",
       "crypto      93363.897\n",
       "stock/bond  60689.500"
      ]
     },
     "execution_count": 24,
     "metadata": {},
     "output_type": "execute_result"
    }
   ],
   "source": [
    "# Create a Pandas DataFrame called savings_df\n",
    "\n",
    "savings_df = pd.DataFrame(savings_data, index=[\"crypto\", \"stock/bond\"], columns=[\"amount\"] )\n",
    "\n",
    "savings_df\n"
   ]
  },
  {
   "cell_type": "markdown",
   "metadata": {},
   "source": [
    "#### Step 3: Use the `savings_df` DataFrame to plot a pie chart that visualizes the composition of the member’s portfolio. The y-axis of the pie chart uses `amount`. Be sure to add a title."
   ]
  },
  {
   "cell_type": "code",
   "execution_count": 25,
   "metadata": {},
   "outputs": [
    {
     "data": {
      "text/plain": [
       "array([<AxesSubplot:ylabel='amount'>], dtype=object)"
      ]
     },
     "execution_count": 25,
     "metadata": {},
     "output_type": "execute_result"
    },
    {
     "data": {
      "image/png": "[encoded data removed]",
      "text/plain": [
       "<Figure size 432x288 with 1 Axes>"
      ]
     },
     "metadata": {},
     "output_type": "display_data"
    }
   ],
   "source": [
    "# Plot the total value of the member's portfolio (crypto and stock/bond) in a pie chart\n",
    "savings_df.plot.pie(subplots=True, ylabel = \"amount\")\n"
   ]
  },
  {
   "cell_type": "markdown",
   "metadata": {},
   "source": [
    "#### Step 4: Using Python, determine if the current portfolio has enough to create an emergency fund as part of the member’s financial plan. Ideally, an emergency fund should equal to three times the member’s monthly income."
   ]
  },
  {
   "cell_type": "markdown",
   "metadata": {},
   "source": [
    "##### Step 4-1: Create a variable named `emergency_fund_value`, and set it equal to three times the value of the member’s `monthly_income` of 12000. (You set this earlier in Part 1)."
   ]
  },
  {
   "cell_type": "code",
   "execution_count": 26,
   "metadata": {},
   "outputs": [
    {
     "data": {
      "text/plain": [
       "36000"
      ]
     },
     "execution_count": 26,
     "metadata": {},
     "output_type": "execute_result"
    }
   ],
   "source": [
    "# Create a variable named emergency_fund_value\n",
    "emergency_fund_value = monthly_income * 3\n",
    "emergency_fund_value\n"
   ]
  },
  {
   "cell_type": "markdown",
   "metadata": {},
   "source": [
    "##### Step 4-2: Create a series of three if statements to determine if the member’s total portfolio is large enough to fund the emergency portfolio:\n",
    "\n",
    "* If the total portfolio value is greater than the emergency fund value, display a message congratulating the member for having enough money in this fund.\n",
    "\n",
    "* Else if the total portfolio value is equal to the emergency fund value, display a message congratulating the member on reaching this important financial goal.\n",
    "\n",
    "* Else the total portfolio is less than the emergency fund value, so display a message showing how many dollars away the member is from reaching the goal. (Subtract the total portfolio value from the emergency fund value.)"
   ]
  },
  {
   "cell_type": "code",
   "execution_count": 27,
   "metadata": {},
   "outputs": [
    {
     "name": "stdout",
     "output_type": "stream",
     "text": [
      "Congratulations! You have enough money in your Fund.\n"
     ]
    }
   ],
   "source": [
    "# Evaluate the possibility of creating an emergency fund with 3 conditions:\n",
    "\n",
    "if total_portfolio >= emergency_fund_value:\n",
    "    print(f\"Congratulations! You have enough money in your Fund.\")\n",
    "else:\n",
    "    if total_portfolio == emergency_fund_value:\n",
    "        print(f\"Congrats! You have reached an important step in your financial goal.\")\n",
    "    else:\n",
    "        if total_portfolio < emergency_fund_value:\n",
    "            print(f\"Sorry, you are ${total_portfolio - emergency_fund_value} away from reaching your goal.\")\n",
    "\n"
   ]
  },
  {
   "cell_type": "markdown",
   "metadata": {},
   "source": [
    "## Part 2: Create a Financial Planner for Retirement"
   ]
  },
  {
   "cell_type": "markdown",
   "metadata": {},
   "source": [
    "### Create the Monte Carlo Simulation\n",
    "\n",
    "In this section, you’ll use the MCForecastTools library to create a Monte Carlo simulation for the member’s savings portfolio. To do this, complete the following steps:\n",
    "\n",
    "1. Make an API call via the Alpaca SDK to get 3 years of historical closing prices for a traditional 60/40 portfolio split: 60% stocks (SPY) and 40% bonds (AGG).\n",
    "\n",
    "2. Run a Monte Carlo simulation of 500 samples and 30 years for the 60/40 portfolio, and then plot the results.The following image shows the overlay line plot resulting from a simulation with these characteristics. However, because a random number generator is used to run each live Monte Carlo simulation, your image will differ slightly from this exact image:\n",
    "\n",
    "![A screenshot depicts the resulting plot.](Images/5-4-monte-carlo-line-plot.png)\n",
    "\n",
    "3. Plot the probability distribution of the Monte Carlo simulation. Plot the probability distribution of the Monte Carlo simulation. The following image shows the histogram plot resulting from a simulation with these characteristics. However, because a random number generator is used to run each live Monte Carlo simulation, your image will differ slightly from this exact image:\n",
    "\n",
    "![A screenshot depicts the histogram plot.](Images/5-4-monte-carlo-histogram.png)\n",
    "\n",
    "4. Generate the summary statistics for the Monte Carlo simulation.\n",
    "\n"
   ]
  },
  {
   "cell_type": "markdown",
   "metadata": {},
   "source": [
    "#### Step 1: Make an API call via the Alpaca SDK to get 3 years of historical closing prices for a traditional 60/40 portfolio split: 60% stocks (SPY) and 40% bonds (AGG)."
   ]
  },
  {
   "cell_type": "code",
   "execution_count": 60,
   "metadata": {},
   "outputs": [],
   "source": [
    "# Set start and end dates of 3 years back from your current date\n",
    "# Alternatively, you can use an end date of 2020-08-07 and work 3 years back from that date \n",
    "start_3 = pd.Timestamp(\"2017-08-07\", tz=\"America/New_York\").isoformat()\n",
    "end_3 = pd.Timestamp(\"2020-08-07\", tz=\"America/New_York\").isoformat()\n",
    "\n",
    "# Set number of rows to 1000 to retrieve the maximum amount of rows\n",
    "limit_rows = 1000"
   ]
  },
  {
   "cell_type": "code",
   "execution_count": 62,
   "metadata": {},
   "outputs": [
    {
     "data": {
      "text/html": [
       "<div>\n",
       "<style scoped>\n",
       "    .dataframe tbody tr th:only-of-type {\n",
       "        vertical-align: middle;\n",
       "    }\n",
       "\n",
       "    .dataframe tbody tr th {\n",
       "        vertical-align: top;\n",
       "    }\n",
       "\n",
       "    .dataframe thead tr th {\n",
       "        text-align: left;\n",
       "    }\n",
       "</style>\n",
       "<table border=\"1\" class=\"dataframe\">\n",
       "  <thead>\n",
       "    <tr>\n",
       "      <th></th>\n",
       "      <th colspan=\"5\" halign=\"left\">AGG</th>\n",
       "      <th colspan=\"5\" halign=\"left\">SPY</th>\n",
       "    </tr>\n",
       "    <tr>\n",
       "      <th></th>\n",
       "      <th>open</th>\n",
       "      <th>high</th>\n",
       "      <th>low</th>\n",
       "      <th>close</th>\n",
       "      <th>volume</th>\n",
       "      <th>open</th>\n",
       "      <th>high</th>\n",
       "      <th>low</th>\n",
       "      <th>close</th>\n",
       "      <th>volume</th>\n",
       "    </tr>\n",
       "  </thead>\n",
       "  <tbody>\n",
       "    <tr>\n",
       "      <th>2017-08-07</th>\n",
       "      <td>109.69</td>\n",
       "      <td>109.72</td>\n",
       "      <td>109.6066</td>\n",
       "      <td>109.6850</td>\n",
       "      <td>1425317.0</td>\n",
       "      <td>247.49</td>\n",
       "      <td>247.87</td>\n",
       "      <td>247.37</td>\n",
       "      <td>247.850</td>\n",
       "      <td>20901988</td>\n",
       "    </tr>\n",
       "    <tr>\n",
       "      <th>2017-08-08</th>\n",
       "      <td>109.67</td>\n",
       "      <td>109.69</td>\n",
       "      <td>109.5000</td>\n",
       "      <td>109.5810</td>\n",
       "      <td>1998999.0</td>\n",
       "      <td>247.51</td>\n",
       "      <td>248.91</td>\n",
       "      <td>246.83</td>\n",
       "      <td>247.291</td>\n",
       "      <td>44619069</td>\n",
       "    </tr>\n",
       "    <tr>\n",
       "      <th>2017-08-09</th>\n",
       "      <td>109.87</td>\n",
       "      <td>109.87</td>\n",
       "      <td>109.6600</td>\n",
       "      <td>109.6700</td>\n",
       "      <td>2069028.0</td>\n",
       "      <td>246.47</td>\n",
       "      <td>247.31</td>\n",
       "      <td>246.06</td>\n",
       "      <td>247.230</td>\n",
       "      <td>48543032</td>\n",
       "    </tr>\n",
       "    <tr>\n",
       "      <th>2017-08-10</th>\n",
       "      <td>109.70</td>\n",
       "      <td>109.85</td>\n",
       "      <td>109.6700</td>\n",
       "      <td>109.8053</td>\n",
       "      <td>1691677.0</td>\n",
       "      <td>246.28</td>\n",
       "      <td>246.44</td>\n",
       "      <td>243.70</td>\n",
       "      <td>243.790</td>\n",
       "      <td>87857827</td>\n",
       "    </tr>\n",
       "    <tr>\n",
       "      <th>2017-08-11</th>\n",
       "      <td>109.75</td>\n",
       "      <td>109.94</td>\n",
       "      <td>109.6800</td>\n",
       "      <td>109.8850</td>\n",
       "      <td>1613467.0</td>\n",
       "      <td>244.02</td>\n",
       "      <td>244.80</td>\n",
       "      <td>243.75</td>\n",
       "      <td>244.110</td>\n",
       "      <td>56404847</td>\n",
       "    </tr>\n",
       "  </tbody>\n",
       "</table>\n",
       "</div>"
      ],
      "text/plain": [
       "               AGG                                            SPY          \\\n",
       "              open    high       low     close     volume    open    high   \n",
       "2017-08-07  109.69  109.72  109.6066  109.6850  1425317.0  247.49  247.87   \n",
       "2017-08-08  109.67  109.69  109.5000  109.5810  1998999.0  247.51  248.91   \n",
       "2017-08-09  109.87  109.87  109.6600  109.6700  2069028.0  246.47  247.31   \n",
       "2017-08-10  109.70  109.85  109.6700  109.8053  1691677.0  246.28  246.44   \n",
       "2017-08-11  109.75  109.94  109.6800  109.8850  1613467.0  244.02  244.80   \n",
       "\n",
       "                                       \n",
       "               low    close    volume  \n",
       "2017-08-07  247.37  247.850  20901988  \n",
       "2017-08-08  246.83  247.291  44619069  \n",
       "2017-08-09  246.06  247.230  48543032  \n",
       "2017-08-10  243.70  243.790  87857827  \n",
       "2017-08-11  243.75  244.110  56404847  "
      ]
     },
     "execution_count": 62,
     "metadata": {},
     "output_type": "execute_result"
    }
   ],
   "source": [
    "# Use the Alpaca get_barset function to make the API call to get the 3 years worth of pricing data\n",
    "# The tickers and timeframe parameters should have been set in Part 1 of this activity \n",
    "# The start and end dates should be updated with the information set above\n",
    "# Remember to add the df property to the end of the call so the response is returned as a DataFrame\n",
    "df_portfolio_3year = alpaca.get_barset(\n",
    "    tickers,\n",
    "    timeframe,\n",
    "    start = start_3,\n",
    "    end = end_3,\n",
    "    limit = limit_rows\n",
    ").df\n",
    "\n",
    "\n",
    "# Display both the first and last five rows of the DataFrame\n",
    "df_portfolio_3year.index = df_portfolio_3year.index.date\n",
    "df_portfolio_3year.head()\n"
   ]
  },
  {
   "cell_type": "markdown",
   "metadata": {},
   "source": [
    "#### Step 2: Run a Monte Carlo simulation of 500 samples and 30 years for the 60/40 portfolio, and then plot the results."
   ]
  },
  {
   "cell_type": "code",
   "execution_count": 63,
   "metadata": {},
   "outputs": [
    {
     "data": {
      "text/html": [
       "<div>\n",
       "<style scoped>\n",
       "    .dataframe tbody tr th:only-of-type {\n",
       "        vertical-align: middle;\n",
       "    }\n",
       "\n",
       "    .dataframe tbody tr th {\n",
       "        vertical-align: top;\n",
       "    }\n",
       "\n",
       "    .dataframe thead tr th {\n",
       "        text-align: left;\n",
       "    }\n",
       "</style>\n",
       "<table border=\"1\" class=\"dataframe\">\n",
       "  <thead>\n",
       "    <tr>\n",
       "      <th></th>\n",
       "      <th colspan=\"6\" halign=\"left\">AGG</th>\n",
       "      <th colspan=\"6\" halign=\"left\">SPY</th>\n",
       "    </tr>\n",
       "    <tr>\n",
       "      <th></th>\n",
       "      <th>open</th>\n",
       "      <th>high</th>\n",
       "      <th>low</th>\n",
       "      <th>close</th>\n",
       "      <th>volume</th>\n",
       "      <th>daily_return</th>\n",
       "      <th>open</th>\n",
       "      <th>high</th>\n",
       "      <th>low</th>\n",
       "      <th>close</th>\n",
       "      <th>volume</th>\n",
       "      <th>daily_return</th>\n",
       "    </tr>\n",
       "  </thead>\n",
       "  <tbody>\n",
       "    <tr>\n",
       "      <th>2017-08-08</th>\n",
       "      <td>109.67</td>\n",
       "      <td>109.6900</td>\n",
       "      <td>109.5000</td>\n",
       "      <td>109.5810</td>\n",
       "      <td>1998999.0</td>\n",
       "      <td>-0.000948</td>\n",
       "      <td>247.5100</td>\n",
       "      <td>248.91</td>\n",
       "      <td>246.83</td>\n",
       "      <td>247.291</td>\n",
       "      <td>44619069</td>\n",
       "      <td>-0.002255</td>\n",
       "    </tr>\n",
       "    <tr>\n",
       "      <th>2017-08-09</th>\n",
       "      <td>109.87</td>\n",
       "      <td>109.8700</td>\n",
       "      <td>109.6600</td>\n",
       "      <td>109.6700</td>\n",
       "      <td>2069028.0</td>\n",
       "      <td>0.000812</td>\n",
       "      <td>246.4700</td>\n",
       "      <td>247.31</td>\n",
       "      <td>246.06</td>\n",
       "      <td>247.230</td>\n",
       "      <td>48543032</td>\n",
       "      <td>-0.000247</td>\n",
       "    </tr>\n",
       "    <tr>\n",
       "      <th>2017-08-10</th>\n",
       "      <td>109.70</td>\n",
       "      <td>109.8500</td>\n",
       "      <td>109.6700</td>\n",
       "      <td>109.8053</td>\n",
       "      <td>1691677.0</td>\n",
       "      <td>0.001234</td>\n",
       "      <td>246.2800</td>\n",
       "      <td>246.44</td>\n",
       "      <td>243.70</td>\n",
       "      <td>243.790</td>\n",
       "      <td>87857827</td>\n",
       "      <td>-0.013914</td>\n",
       "    </tr>\n",
       "    <tr>\n",
       "      <th>2017-08-11</th>\n",
       "      <td>109.75</td>\n",
       "      <td>109.9400</td>\n",
       "      <td>109.6800</td>\n",
       "      <td>109.8850</td>\n",
       "      <td>1613467.0</td>\n",
       "      <td>0.000726</td>\n",
       "      <td>244.0200</td>\n",
       "      <td>244.80</td>\n",
       "      <td>243.75</td>\n",
       "      <td>244.110</td>\n",
       "      <td>56404847</td>\n",
       "      <td>0.001313</td>\n",
       "    </tr>\n",
       "    <tr>\n",
       "      <th>2017-08-14</th>\n",
       "      <td>109.84</td>\n",
       "      <td>109.8969</td>\n",
       "      <td>109.7400</td>\n",
       "      <td>109.8100</td>\n",
       "      <td>2002026.0</td>\n",
       "      <td>-0.000683</td>\n",
       "      <td>245.5900</td>\n",
       "      <td>246.79</td>\n",
       "      <td>245.55</td>\n",
       "      <td>246.520</td>\n",
       "      <td>49018104</td>\n",
       "      <td>0.009873</td>\n",
       "    </tr>\n",
       "    <tr>\n",
       "      <th>...</th>\n",
       "      <td>...</td>\n",
       "      <td>...</td>\n",
       "      <td>...</td>\n",
       "      <td>...</td>\n",
       "      <td>...</td>\n",
       "      <td>...</td>\n",
       "      <td>...</td>\n",
       "      <td>...</td>\n",
       "      <td>...</td>\n",
       "      <td>...</td>\n",
       "      <td>...</td>\n",
       "      <td>...</td>\n",
       "    </tr>\n",
       "    <tr>\n",
       "      <th>2020-08-03</th>\n",
       "      <td>119.37</td>\n",
       "      <td>119.4000</td>\n",
       "      <td>119.1903</td>\n",
       "      <td>119.4000</td>\n",
       "      <td>17837420.0</td>\n",
       "      <td>-0.001338</td>\n",
       "      <td>328.3200</td>\n",
       "      <td>329.62</td>\n",
       "      <td>327.73</td>\n",
       "      <td>328.760</td>\n",
       "      <td>71741125</td>\n",
       "      <td>0.006768</td>\n",
       "    </tr>\n",
       "    <tr>\n",
       "      <th>2020-08-04</th>\n",
       "      <td>119.42</td>\n",
       "      <td>119.6300</td>\n",
       "      <td>119.4200</td>\n",
       "      <td>119.6300</td>\n",
       "      <td>21512268.0</td>\n",
       "      <td>0.001926</td>\n",
       "      <td>327.8600</td>\n",
       "      <td>330.06</td>\n",
       "      <td>327.86</td>\n",
       "      <td>330.030</td>\n",
       "      <td>73684427</td>\n",
       "      <td>0.003863</td>\n",
       "    </tr>\n",
       "    <tr>\n",
       "      <th>2020-08-05</th>\n",
       "      <td>119.39</td>\n",
       "      <td>119.4900</td>\n",
       "      <td>119.3100</td>\n",
       "      <td>119.4000</td>\n",
       "      <td>34175883.0</td>\n",
       "      <td>-0.001923</td>\n",
       "      <td>331.4700</td>\n",
       "      <td>332.39</td>\n",
       "      <td>331.18</td>\n",
       "      <td>332.060</td>\n",
       "      <td>72846458</td>\n",
       "      <td>0.006151</td>\n",
       "    </tr>\n",
       "    <tr>\n",
       "      <th>2020-08-06</th>\n",
       "      <td>119.62</td>\n",
       "      <td>119.7300</td>\n",
       "      <td>119.5300</td>\n",
       "      <td>119.5800</td>\n",
       "      <td>9009216.0</td>\n",
       "      <td>0.001508</td>\n",
       "      <td>331.4799</td>\n",
       "      <td>334.46</td>\n",
       "      <td>331.13</td>\n",
       "      <td>334.310</td>\n",
       "      <td>76900649</td>\n",
       "      <td>0.006776</td>\n",
       "    </tr>\n",
       "    <tr>\n",
       "      <th>2020-08-07</th>\n",
       "      <td>119.66</td>\n",
       "      <td>119.7300</td>\n",
       "      <td>119.3950</td>\n",
       "      <td>119.4450</td>\n",
       "      <td>8830420.0</td>\n",
       "      <td>-0.001129</td>\n",
       "      <td>333.2800</td>\n",
       "      <td>334.88</td>\n",
       "      <td>332.30</td>\n",
       "      <td>334.550</td>\n",
       "      <td>98710236</td>\n",
       "      <td>0.000718</td>\n",
       "    </tr>\n",
       "  </tbody>\n",
       "</table>\n",
       "<p>755 rows × 12 columns</p>\n",
       "</div>"
      ],
      "text/plain": [
       "               AGG                                                         \\\n",
       "              open      high       low     close      volume daily_return   \n",
       "2017-08-08  109.67  109.6900  109.5000  109.5810   1998999.0    -0.000948   \n",
       "2017-08-09  109.87  109.8700  109.6600  109.6700   2069028.0     0.000812   \n",
       "2017-08-10  109.70  109.8500  109.6700  109.8053   1691677.0     0.001234   \n",
       "2017-08-11  109.75  109.9400  109.6800  109.8850   1613467.0     0.000726   \n",
       "2017-08-14  109.84  109.8969  109.7400  109.8100   2002026.0    -0.000683   \n",
       "...            ...       ...       ...       ...         ...          ...   \n",
       "2020-08-03  119.37  119.4000  119.1903  119.4000  17837420.0    -0.001338   \n",
       "2020-08-04  119.42  119.6300  119.4200  119.6300  21512268.0     0.001926   \n",
       "2020-08-05  119.39  119.4900  119.3100  119.4000  34175883.0    -0.001923   \n",
       "2020-08-06  119.62  119.7300  119.5300  119.5800   9009216.0     0.001508   \n",
       "2020-08-07  119.66  119.7300  119.3950  119.4450   8830420.0    -0.001129   \n",
       "\n",
       "                 SPY                                                  \n",
       "                open    high     low    close    volume daily_return  \n",
       "2017-08-08  247.5100  248.91  246.83  247.291  44619069    -0.002255  \n",
       "2017-08-09  246.4700  247.31  246.06  247.230  48543032    -0.000247  \n",
       "2017-08-10  246.2800  246.44  243.70  243.790  87857827    -0.013914  \n",
       "2017-08-11  244.0200  244.80  243.75  244.110  56404847     0.001313  \n",
       "2017-08-14  245.5900  246.79  245.55  246.520  49018104     0.009873  \n",
       "...              ...     ...     ...      ...       ...          ...  \n",
       "2020-08-03  328.3200  329.62  327.73  328.760  71741125     0.006768  \n",
       "2020-08-04  327.8600  330.06  327.86  330.030  73684427     0.003863  \n",
       "2020-08-05  331.4700  332.39  331.18  332.060  72846458     0.006151  \n",
       "2020-08-06  331.4799  334.46  331.13  334.310  76900649     0.006776  \n",
       "2020-08-07  333.2800  334.88  332.30  334.550  98710236     0.000718  \n",
       "\n",
       "[755 rows x 12 columns]"
      ]
     },
     "execution_count": 63,
     "metadata": {},
     "output_type": "execute_result"
    }
   ],
   "source": [
    "# Configure the Monte Carlo simulation to forecast 30 years cumulative returns\n",
    "# The weights should be split 40% to AGG and 60% to SPY.\n",
    "# Run 500 samples.\n",
    "\n",
    "thirty_year_simulation = MCSimulation(\n",
    "    portfolio_data=df_portfolio_3year,\n",
    "    weights=[0.25, 0.75],\n",
    "    num_simulation=500,\n",
    "    num_trading_days=7560,\n",
    ")\n",
    "\n",
    "# Review the simulation input data\n",
    "thirty_year_simulation.portfolio_data.dropna()\n"
   ]
  },
  {
   "cell_type": "code",
   "execution_count": 64,
   "metadata": {},
   "outputs": [
    {
     "name": "stdout",
     "output_type": "stream",
     "text": [
      "Running Monte Carlo simulation number 0.\n",
      "Running Monte Carlo simulation number 10.\n",
      "Running Monte Carlo simulation number 20.\n",
      "Running Monte Carlo simulation number 30.\n",
      "Running Monte Carlo simulation number 40.\n",
      "Running Monte Carlo simulation number 50.\n",
      "Running Monte Carlo simulation number 60.\n",
      "Running Monte Carlo simulation number 70.\n",
      "Running Monte Carlo simulation number 80.\n",
      "Running Monte Carlo simulation number 90.\n",
      "Running Monte Carlo simulation number 100.\n"
     ]
    },
    {
     "name": "stderr",
     "output_type": "stream",
     "text": [
      "/Users/johannmaiga/Downloads/MyFiles/FinTech Class/Repos/Financial_Planner_Tools/MCForecastTools.py:117: PerformanceWarning: DataFrame is highly fragmented.  This is usually the result of calling `frame.insert` many times, which has poor performance.  Consider joining all columns at once using pd.concat(axis=1) instead.  To get a de-fragmented frame, use `newframe = frame.copy()`\n",
      "  portfolio_cumulative_returns[n] = (1 + sim_df.fillna(0)).cumprod()\n"
     ]
    },
    {
     "name": "stdout",
     "output_type": "stream",
     "text": [
      "Running Monte Carlo simulation number 110.\n",
      "Running Monte Carlo simulation number 120.\n",
      "Running Monte Carlo simulation number 130.\n",
      "Running Monte Carlo simulation number 140.\n",
      "Running Monte Carlo simulation number 150.\n",
      "Running Monte Carlo simulation number 160.\n",
      "Running Monte Carlo simulation number 170.\n",
      "Running Monte Carlo simulation number 180.\n",
      "Running Monte Carlo simulation number 190.\n",
      "Running Monte Carlo simulation number 200.\n",
      "Running Monte Carlo simulation number 210.\n",
      "Running Monte Carlo simulation number 220.\n",
      "Running Monte Carlo simulation number 230.\n",
      "Running Monte Carlo simulation number 240.\n",
      "Running Monte Carlo simulation number 250.\n",
      "Running Monte Carlo simulation number 260.\n",
      "Running Monte Carlo simulation number 270.\n",
      "Running Monte Carlo simulation number 280.\n",
      "Running Monte Carlo simulation number 290.\n",
      "Running Monte Carlo simulation number 300.\n",
      "Running Monte Carlo simulation number 310.\n",
      "Running Monte Carlo simulation number 320.\n",
      "Running Monte Carlo simulation number 330.\n",
      "Running Monte Carlo simulation number 340.\n",
      "Running Monte Carlo simulation number 350.\n",
      "Running Monte Carlo simulation number 360.\n",
      "Running Monte Carlo simulation number 370.\n",
      "Running Monte Carlo simulation number 380.\n",
      "Running Monte Carlo simulation number 390.\n",
      "Running Monte Carlo simulation number 400.\n",
      "Running Monte Carlo simulation number 410.\n",
      "Running Monte Carlo simulation number 420.\n",
      "Running Monte Carlo simulation number 430.\n",
      "Running Monte Carlo simulation number 440.\n",
      "Running Monte Carlo simulation number 450.\n",
      "Running Monte Carlo simulation number 460.\n",
      "Running Monte Carlo simulation number 470.\n",
      "Running Monte Carlo simulation number 480.\n",
      "Running Monte Carlo simulation number 490.\n"
     ]
    },
    {
     "data": {
      "text/html": [
       "<div>\n",
       "<style scoped>\n",
       "    .dataframe tbody tr th:only-of-type {\n",
       "        vertical-align: middle;\n",
       "    }\n",
       "\n",
       "    .dataframe tbody tr th {\n",
       "        vertical-align: top;\n",
       "    }\n",
       "\n",
       "    .dataframe thead th {\n",
       "        text-align: right;\n",
       "    }\n",
       "</style>\n",
       "<table border=\"1\" class=\"dataframe\">\n",
       "  <thead>\n",
       "    <tr style=\"text-align: right;\">\n",
       "      <th></th>\n",
       "      <th>0</th>\n",
       "      <th>1</th>\n",
       "      <th>2</th>\n",
       "      <th>3</th>\n",
       "      <th>4</th>\n",
       "      <th>5</th>\n",
       "      <th>6</th>\n",
       "      <th>7</th>\n",
       "      <th>8</th>\n",
       "      <th>9</th>\n",
       "      <th>...</th>\n",
       "      <th>490</th>\n",
       "      <th>491</th>\n",
       "      <th>492</th>\n",
       "      <th>493</th>\n",
       "      <th>494</th>\n",
       "      <th>495</th>\n",
       "      <th>496</th>\n",
       "      <th>497</th>\n",
       "      <th>498</th>\n",
       "      <th>499</th>\n",
       "    </tr>\n",
       "  </thead>\n",
       "  <tbody>\n",
       "    <tr>\n",
       "      <th>0</th>\n",
       "      <td>1.000000</td>\n",
       "      <td>1.000000</td>\n",
       "      <td>1.000000</td>\n",
       "      <td>1.000000</td>\n",
       "      <td>1.000000</td>\n",
       "      <td>1.000000</td>\n",
       "      <td>1.000000</td>\n",
       "      <td>1.000000</td>\n",
       "      <td>1.000000</td>\n",
       "      <td>1.000000</td>\n",
       "      <td>...</td>\n",
       "      <td>1.000000</td>\n",
       "      <td>1.000000</td>\n",
       "      <td>1.000000</td>\n",
       "      <td>1.000000</td>\n",
       "      <td>1.000000</td>\n",
       "      <td>1.000000</td>\n",
       "      <td>1.000000</td>\n",
       "      <td>1.000000</td>\n",
       "      <td>1.000000</td>\n",
       "      <td>1.000000</td>\n",
       "    </tr>\n",
       "    <tr>\n",
       "      <th>1</th>\n",
       "      <td>1.005461</td>\n",
       "      <td>1.000001</td>\n",
       "      <td>0.988164</td>\n",
       "      <td>1.000161</td>\n",
       "      <td>1.012699</td>\n",
       "      <td>1.006248</td>\n",
       "      <td>1.011684</td>\n",
       "      <td>1.001161</td>\n",
       "      <td>1.010434</td>\n",
       "      <td>0.975834</td>\n",
       "      <td>...</td>\n",
       "      <td>0.995898</td>\n",
       "      <td>1.007855</td>\n",
       "      <td>0.995584</td>\n",
       "      <td>0.997571</td>\n",
       "      <td>0.990182</td>\n",
       "      <td>0.989194</td>\n",
       "      <td>1.008044</td>\n",
       "      <td>1.001383</td>\n",
       "      <td>0.977290</td>\n",
       "      <td>1.003691</td>\n",
       "    </tr>\n",
       "    <tr>\n",
       "      <th>2</th>\n",
       "      <td>1.011599</td>\n",
       "      <td>1.017867</td>\n",
       "      <td>0.978578</td>\n",
       "      <td>1.001251</td>\n",
       "      <td>1.018711</td>\n",
       "      <td>1.017040</td>\n",
       "      <td>1.019943</td>\n",
       "      <td>0.988499</td>\n",
       "      <td>0.993714</td>\n",
       "      <td>0.977224</td>\n",
       "      <td>...</td>\n",
       "      <td>0.988307</td>\n",
       "      <td>1.015374</td>\n",
       "      <td>0.997537</td>\n",
       "      <td>1.002327</td>\n",
       "      <td>0.970859</td>\n",
       "      <td>1.002529</td>\n",
       "      <td>1.006393</td>\n",
       "      <td>1.021594</td>\n",
       "      <td>0.960112</td>\n",
       "      <td>0.995534</td>\n",
       "    </tr>\n",
       "    <tr>\n",
       "      <th>3</th>\n",
       "      <td>0.999829</td>\n",
       "      <td>1.037241</td>\n",
       "      <td>0.981904</td>\n",
       "      <td>0.996109</td>\n",
       "      <td>1.007607</td>\n",
       "      <td>1.019011</td>\n",
       "      <td>1.011020</td>\n",
       "      <td>0.988076</td>\n",
       "      <td>0.979391</td>\n",
       "      <td>0.984082</td>\n",
       "      <td>...</td>\n",
       "      <td>0.976262</td>\n",
       "      <td>1.020759</td>\n",
       "      <td>0.979266</td>\n",
       "      <td>0.983803</td>\n",
       "      <td>0.987994</td>\n",
       "      <td>1.004954</td>\n",
       "      <td>0.986179</td>\n",
       "      <td>1.026888</td>\n",
       "      <td>0.961521</td>\n",
       "      <td>0.987612</td>\n",
       "    </tr>\n",
       "    <tr>\n",
       "      <th>4</th>\n",
       "      <td>0.995605</td>\n",
       "      <td>1.027717</td>\n",
       "      <td>0.979788</td>\n",
       "      <td>1.011139</td>\n",
       "      <td>1.007552</td>\n",
       "      <td>1.013518</td>\n",
       "      <td>0.999156</td>\n",
       "      <td>0.957649</td>\n",
       "      <td>0.970055</td>\n",
       "      <td>0.980131</td>\n",
       "      <td>...</td>\n",
       "      <td>0.975004</td>\n",
       "      <td>1.031935</td>\n",
       "      <td>0.978003</td>\n",
       "      <td>0.994382</td>\n",
       "      <td>0.990464</td>\n",
       "      <td>0.991161</td>\n",
       "      <td>0.966837</td>\n",
       "      <td>1.032376</td>\n",
       "      <td>0.966819</td>\n",
       "      <td>0.982980</td>\n",
       "    </tr>\n",
       "    <tr>\n",
       "      <th>...</th>\n",
       "      <td>...</td>\n",
       "      <td>...</td>\n",
       "      <td>...</td>\n",
       "      <td>...</td>\n",
       "      <td>...</td>\n",
       "      <td>...</td>\n",
       "      <td>...</td>\n",
       "      <td>...</td>\n",
       "      <td>...</td>\n",
       "      <td>...</td>\n",
       "      <td>...</td>\n",
       "      <td>...</td>\n",
       "      <td>...</td>\n",
       "      <td>...</td>\n",
       "      <td>...</td>\n",
       "      <td>...</td>\n",
       "      <td>...</td>\n",
       "      <td>...</td>\n",
       "      <td>...</td>\n",
       "      <td>...</td>\n",
       "      <td>...</td>\n",
       "    </tr>\n",
       "    <tr>\n",
       "      <th>7556</th>\n",
       "      <td>27.149208</td>\n",
       "      <td>18.992632</td>\n",
       "      <td>13.172955</td>\n",
       "      <td>52.050476</td>\n",
       "      <td>8.782811</td>\n",
       "      <td>4.313482</td>\n",
       "      <td>35.476224</td>\n",
       "      <td>11.776420</td>\n",
       "      <td>4.598511</td>\n",
       "      <td>17.605568</td>\n",
       "      <td>...</td>\n",
       "      <td>31.589121</td>\n",
       "      <td>11.223664</td>\n",
       "      <td>22.307091</td>\n",
       "      <td>4.979975</td>\n",
       "      <td>38.279714</td>\n",
       "      <td>31.294626</td>\n",
       "      <td>37.629341</td>\n",
       "      <td>8.864068</td>\n",
       "      <td>9.628690</td>\n",
       "      <td>7.807764</td>\n",
       "    </tr>\n",
       "    <tr>\n",
       "      <th>7557</th>\n",
       "      <td>28.075106</td>\n",
       "      <td>19.182710</td>\n",
       "      <td>13.156004</td>\n",
       "      <td>53.057241</td>\n",
       "      <td>8.874411</td>\n",
       "      <td>4.312483</td>\n",
       "      <td>35.081854</td>\n",
       "      <td>11.779592</td>\n",
       "      <td>4.652632</td>\n",
       "      <td>17.398539</td>\n",
       "      <td>...</td>\n",
       "      <td>32.085996</td>\n",
       "      <td>11.182588</td>\n",
       "      <td>22.766999</td>\n",
       "      <td>4.978264</td>\n",
       "      <td>37.718155</td>\n",
       "      <td>31.281172</td>\n",
       "      <td>36.990212</td>\n",
       "      <td>8.908585</td>\n",
       "      <td>9.630876</td>\n",
       "      <td>7.787421</td>\n",
       "    </tr>\n",
       "    <tr>\n",
       "      <th>7558</th>\n",
       "      <td>28.342140</td>\n",
       "      <td>18.967534</td>\n",
       "      <td>13.035972</td>\n",
       "      <td>53.311131</td>\n",
       "      <td>8.989204</td>\n",
       "      <td>4.320456</td>\n",
       "      <td>35.355237</td>\n",
       "      <td>11.549092</td>\n",
       "      <td>4.580525</td>\n",
       "      <td>17.732163</td>\n",
       "      <td>...</td>\n",
       "      <td>32.155264</td>\n",
       "      <td>11.278705</td>\n",
       "      <td>23.044015</td>\n",
       "      <td>4.985791</td>\n",
       "      <td>38.250614</td>\n",
       "      <td>31.350775</td>\n",
       "      <td>37.394212</td>\n",
       "      <td>8.906701</td>\n",
       "      <td>9.751907</td>\n",
       "      <td>7.775779</td>\n",
       "    </tr>\n",
       "    <tr>\n",
       "      <th>7559</th>\n",
       "      <td>28.628102</td>\n",
       "      <td>18.950906</td>\n",
       "      <td>12.992196</td>\n",
       "      <td>53.718256</td>\n",
       "      <td>8.999447</td>\n",
       "      <td>4.331915</td>\n",
       "      <td>35.236539</td>\n",
       "      <td>11.494630</td>\n",
       "      <td>4.591478</td>\n",
       "      <td>17.756301</td>\n",
       "      <td>...</td>\n",
       "      <td>31.749839</td>\n",
       "      <td>11.159895</td>\n",
       "      <td>23.357662</td>\n",
       "      <td>5.102304</td>\n",
       "      <td>37.981478</td>\n",
       "      <td>31.134547</td>\n",
       "      <td>38.181913</td>\n",
       "      <td>8.946984</td>\n",
       "      <td>9.909935</td>\n",
       "      <td>7.805453</td>\n",
       "    </tr>\n",
       "    <tr>\n",
       "      <th>7560</th>\n",
       "      <td>28.607498</td>\n",
       "      <td>19.538863</td>\n",
       "      <td>13.022760</td>\n",
       "      <td>53.968566</td>\n",
       "      <td>8.984526</td>\n",
       "      <td>4.413967</td>\n",
       "      <td>35.062477</td>\n",
       "      <td>11.541055</td>\n",
       "      <td>4.628708</td>\n",
       "      <td>17.822011</td>\n",
       "      <td>...</td>\n",
       "      <td>31.277589</td>\n",
       "      <td>11.091945</td>\n",
       "      <td>23.541628</td>\n",
       "      <td>5.110970</td>\n",
       "      <td>38.230501</td>\n",
       "      <td>31.381270</td>\n",
       "      <td>38.579725</td>\n",
       "      <td>9.051379</td>\n",
       "      <td>9.991259</td>\n",
       "      <td>7.899918</td>\n",
       "    </tr>\n",
       "  </tbody>\n",
       "</table>\n",
       "<p>7561 rows × 500 columns</p>\n",
       "</div>"
      ],
      "text/plain": [
       "            0          1          2          3         4         5    \\\n",
       "0      1.000000   1.000000   1.000000   1.000000  1.000000  1.000000   \n",
       "1      1.005461   1.000001   0.988164   1.000161  1.012699  1.006248   \n",
       "2      1.011599   1.017867   0.978578   1.001251  1.018711  1.017040   \n",
       "3      0.999829   1.037241   0.981904   0.996109  1.007607  1.019011   \n",
       "4      0.995605   1.027717   0.979788   1.011139  1.007552  1.013518   \n",
       "...         ...        ...        ...        ...       ...       ...   \n",
       "7556  27.149208  18.992632  13.172955  52.050476  8.782811  4.313482   \n",
       "7557  28.075106  19.182710  13.156004  53.057241  8.874411  4.312483   \n",
       "7558  28.342140  18.967534  13.035972  53.311131  8.989204  4.320456   \n",
       "7559  28.628102  18.950906  12.992196  53.718256  8.999447  4.331915   \n",
       "7560  28.607498  19.538863  13.022760  53.968566  8.984526  4.413967   \n",
       "\n",
       "            6          7         8          9    ...        490        491  \\\n",
       "0      1.000000   1.000000  1.000000   1.000000  ...   1.000000   1.000000   \n",
       "1      1.011684   1.001161  1.010434   0.975834  ...   0.995898   1.007855   \n",
       "2      1.019943   0.988499  0.993714   0.977224  ...   0.988307   1.015374   \n",
       "3      1.011020   0.988076  0.979391   0.984082  ...   0.976262   1.020759   \n",
       "4      0.999156   0.957649  0.970055   0.980131  ...   0.975004   1.031935   \n",
       "...         ...        ...       ...        ...  ...        ...        ...   \n",
       "7556  35.476224  11.776420  4.598511  17.605568  ...  31.589121  11.223664   \n",
       "7557  35.081854  11.779592  4.652632  17.398539  ...  32.085996  11.182588   \n",
       "7558  35.355237  11.549092  4.580525  17.732163  ...  32.155264  11.278705   \n",
       "7559  35.236539  11.494630  4.591478  17.756301  ...  31.749839  11.159895   \n",
       "7560  35.062477  11.541055  4.628708  17.822011  ...  31.277589  11.091945   \n",
       "\n",
       "            492       493        494        495        496       497  \\\n",
       "0      1.000000  1.000000   1.000000   1.000000   1.000000  1.000000   \n",
       "1      0.995584  0.997571   0.990182   0.989194   1.008044  1.001383   \n",
       "2      0.997537  1.002327   0.970859   1.002529   1.006393  1.021594   \n",
       "3      0.979266  0.983803   0.987994   1.004954   0.986179  1.026888   \n",
       "4      0.978003  0.994382   0.990464   0.991161   0.966837  1.032376   \n",
       "...         ...       ...        ...        ...        ...       ...   \n",
       "7556  22.307091  4.979975  38.279714  31.294626  37.629341  8.864068   \n",
       "7557  22.766999  4.978264  37.718155  31.281172  36.990212  8.908585   \n",
       "7558  23.044015  4.985791  38.250614  31.350775  37.394212  8.906701   \n",
       "7559  23.357662  5.102304  37.981478  31.134547  38.181913  8.946984   \n",
       "7560  23.541628  5.110970  38.230501  31.381270  38.579725  9.051379   \n",
       "\n",
       "           498       499  \n",
       "0     1.000000  1.000000  \n",
       "1     0.977290  1.003691  \n",
       "2     0.960112  0.995534  \n",
       "3     0.961521  0.987612  \n",
       "4     0.966819  0.982980  \n",
       "...        ...       ...  \n",
       "7556  9.628690  7.807764  \n",
       "7557  9.630876  7.787421  \n",
       "7558  9.751907  7.775779  \n",
       "7559  9.909935  7.805453  \n",
       "7560  9.991259  7.899918  \n",
       "\n",
       "[7561 rows x 500 columns]"
      ]
     },
     "execution_count": 64,
     "metadata": {},
     "output_type": "execute_result"
    }
   ],
   "source": [
    "# Run the Monte Carlo simulation to forecast 30 years cumulative returns\n",
    "thirty_year_simulation.calc_cumulative_return()\n"
   ]
  },
  {
   "cell_type": "code",
   "execution_count": 65,
   "metadata": {},
   "outputs": [
    {
     "data": {
      "text/plain": [
       "<AxesSubplot:title={'center':'500 Simulations of Cumulative Portfolio Return Trajectories Over the Next 7560 Trading Days.'}>"
      ]
     },
     "execution_count": 65,
     "metadata": {},
     "output_type": "execute_result"
    },
    {
     "data": {
      "image/png": "[encoded data removed]",
      "text/plain": [
       "<Figure size 432x288 with 1 Axes>"
      ]
     },
     "metadata": {
      "needs_background": "light"
     },
     "output_type": "display_data"
    }
   ],
   "source": [
    "# Visualize the 30-year Monte Carlo simulation by creating an\n",
    "# overlay line plot\n",
    "thirty_year_simulation.plot_simulation()\n"
   ]
  },
  {
   "cell_type": "markdown",
   "metadata": {},
   "source": [
    "#### Step 3: Plot the probability distribution of the Monte Carlo simulation."
   ]
  },
  {
   "cell_type": "code",
   "execution_count": 66,
   "metadata": {},
   "outputs": [
    {
     "data": {
      "text/plain": [
       "<AxesSubplot:title={'center':'Distribution of Final Cumuluative Returns Across All 500 Simulations'}, ylabel='Frequency'>"
      ]
     },
     "execution_count": 66,
     "metadata": {},
     "output_type": "execute_result"
    },
    {
     "data": {
      "image/png": "[encoded data removed]",
      "text/plain": [
       "<Figure size 432x288 with 1 Axes>"
      ]
     },
     "metadata": {
      "needs_background": "light"
     },
     "output_type": "display_data"
    }
   ],
   "source": [
    "# Visualize the probability distribution of the 30-year Monte Carlo simulation \n",
    "# by plotting a histogram\n",
    "thirty_year_simulation.plot_distribution()\n"
   ]
  },
  {
   "cell_type": "markdown",
   "metadata": {},
   "source": [
    "#### Step 4: Generate the summary statistics for the Monte Carlo simulation."
   ]
  },
  {
   "cell_type": "code",
   "execution_count": 76,
   "metadata": {},
   "outputs": [
    {
     "data": {
      "text/plain": [
       "count           500.000000\n",
       "mean             20.503573\n",
       "std              23.884827\n",
       "min               0.810540\n",
       "25%               6.950158\n",
       "50%              12.273644\n",
       "75%              23.557406\n",
       "max             187.350866\n",
       "95% CI Lower      2.140957\n",
       "95% CI Upper     89.027033\n",
       "Name: 7560, dtype: float64"
      ]
     },
     "execution_count": 76,
     "metadata": {},
     "output_type": "execute_result"
    }
   ],
   "source": [
    "# Generate summary statistics from the 30-year Monte Carlo simulation results\n",
    "# Save the results as a variable\n",
    "\n",
    "mc_summary_30y = thirty_year_simulation.summarize_cumulative_return()\n",
    "\n",
    "\n",
    "# Review the 30-year Monte Carlo summary statistics\n",
    "mc_summary_30y"
   ]
  },
  {
   "cell_type": "markdown",
   "metadata": {},
   "source": [
    "### Analyze the Retirement Portfolio Forecasts\n",
    "\n",
    "Using the current value of only the stock and bond portion of the member's portfolio and the summary statistics that you generated from the Monte Carlo simulation, answer the following question in your Jupyter notebook:\n",
    "\n",
    "-  What are the lower and upper bounds for the expected value of the portfolio with a 95% confidence interval?\n"
   ]
  },
  {
   "cell_type": "code",
   "execution_count": 81,
   "metadata": {},
   "outputs": [
    {
     "data": {
      "text/plain": [
       "60689.5"
      ]
     },
     "execution_count": 81,
     "metadata": {},
     "output_type": "execute_result"
    }
   ],
   "source": [
    "# Print the current balance of the stock and bond portion of the members portfolio\n",
    "total_sb\n"
   ]
  },
  {
   "cell_type": "code",
   "execution_count": 83,
   "metadata": {},
   "outputs": [
    {
     "name": "stdout",
     "output_type": "stream",
     "text": [
      "There is a 95% chance that an initial investment of $60689.5 in the portfolio over the next 30 years will end within in the range of $129933.62 and $5403006.09.\n"
     ]
    }
   ],
   "source": [
    "# Use the lower and upper `95%` confidence intervals to calculate the range of the possible outcomes for the current stock/bond portfolio\n",
    "ci_lower_thirty_cumulative_return = round(mc_summary_30y[8]*total_sb,2)\n",
    "ci_upper_thirty_cumulative_return = round(mc_summary_30y[9]*total_sb,2)\n",
    "\n",
    "# Print the result of your calculations\n",
    "print(f\"There is a 95% chance that an initial investment of ${total_sb} in the portfolio\"\n",
    "      f\" over the next 30 years will end within in the range of\"\n",
    "      f\" ${ci_lower_thirty_cumulative_return} and ${ci_upper_thirty_cumulative_return}.\")\n"
   ]
  },
  {
   "cell_type": "markdown",
   "metadata": {},
   "source": [
    "### Forecast Cumulative Returns in 10 Years\n",
    "\n",
    "The CTO of the credit union is impressed with your work on these planning tools but wonders if 30 years is a long time to wait until retirement. So, your next task is to adjust the retirement portfolio and run a new Monte Carlo simulation to find out if the changes will allow members to retire earlier.\n",
    "\n",
    "For this new Monte Carlo simulation, do the following: \n",
    "\n",
    "- Forecast the cumulative returns for 10 years from now. Because of the shortened investment horizon (30 years to 10 years), the portfolio needs to invest more heavily in the riskier asset&mdash;that is, stock&mdash;to help accumulate wealth for retirement. \n",
    "\n",
    "- Adjust the weights of the retirement portfolio so that the composition for the Monte Carlo simulation consists of 20% bonds and 80% stocks. \n",
    "\n",
    "- Run the simulation over 500 samples, and use the same data that the API call to Alpaca generated.\n",
    "\n",
    "- Based on the new Monte Carlo simulation, answer the following questions in your Jupyter notebook:\n",
    "\n",
    "    - Using the current value of only the stock and bond portion of the member's portfolio and the summary statistics that you generated from the new Monte Carlo simulation, what are the lower and upper bounds for the expected value of the portfolio (with the new weights) with a 95% confidence interval?\n",
    "\n",
    "    - Will weighting the portfolio more heavily toward stocks allow the credit union members to retire after only 10 years?\n"
   ]
  },
  {
   "cell_type": "code",
   "execution_count": 70,
   "metadata": {},
   "outputs": [
    {
     "data": {
      "text/html": [
       "<div>\n",
       "<style scoped>\n",
       "    .dataframe tbody tr th:only-of-type {\n",
       "        vertical-align: middle;\n",
       "    }\n",
       "\n",
       "    .dataframe tbody tr th {\n",
       "        vertical-align: top;\n",
       "    }\n",
       "\n",
       "    .dataframe thead tr th {\n",
       "        text-align: left;\n",
       "    }\n",
       "</style>\n",
       "<table border=\"1\" class=\"dataframe\">\n",
       "  <thead>\n",
       "    <tr>\n",
       "      <th></th>\n",
       "      <th colspan=\"6\" halign=\"left\">AGG</th>\n",
       "      <th colspan=\"6\" halign=\"left\">SPY</th>\n",
       "    </tr>\n",
       "    <tr>\n",
       "      <th></th>\n",
       "      <th>open</th>\n",
       "      <th>high</th>\n",
       "      <th>low</th>\n",
       "      <th>close</th>\n",
       "      <th>volume</th>\n",
       "      <th>daily_return</th>\n",
       "      <th>open</th>\n",
       "      <th>high</th>\n",
       "      <th>low</th>\n",
       "      <th>close</th>\n",
       "      <th>volume</th>\n",
       "      <th>daily_return</th>\n",
       "    </tr>\n",
       "  </thead>\n",
       "  <tbody>\n",
       "    <tr>\n",
       "      <th>2017-08-08</th>\n",
       "      <td>109.67</td>\n",
       "      <td>109.6900</td>\n",
       "      <td>109.5000</td>\n",
       "      <td>109.5810</td>\n",
       "      <td>1998999.0</td>\n",
       "      <td>-0.000948</td>\n",
       "      <td>247.5100</td>\n",
       "      <td>248.91</td>\n",
       "      <td>246.83</td>\n",
       "      <td>247.291</td>\n",
       "      <td>44619069</td>\n",
       "      <td>-0.002255</td>\n",
       "    </tr>\n",
       "    <tr>\n",
       "      <th>2017-08-09</th>\n",
       "      <td>109.87</td>\n",
       "      <td>109.8700</td>\n",
       "      <td>109.6600</td>\n",
       "      <td>109.6700</td>\n",
       "      <td>2069028.0</td>\n",
       "      <td>0.000812</td>\n",
       "      <td>246.4700</td>\n",
       "      <td>247.31</td>\n",
       "      <td>246.06</td>\n",
       "      <td>247.230</td>\n",
       "      <td>48543032</td>\n",
       "      <td>-0.000247</td>\n",
       "    </tr>\n",
       "    <tr>\n",
       "      <th>2017-08-10</th>\n",
       "      <td>109.70</td>\n",
       "      <td>109.8500</td>\n",
       "      <td>109.6700</td>\n",
       "      <td>109.8053</td>\n",
       "      <td>1691677.0</td>\n",
       "      <td>0.001234</td>\n",
       "      <td>246.2800</td>\n",
       "      <td>246.44</td>\n",
       "      <td>243.70</td>\n",
       "      <td>243.790</td>\n",
       "      <td>87857827</td>\n",
       "      <td>-0.013914</td>\n",
       "    </tr>\n",
       "    <tr>\n",
       "      <th>2017-08-11</th>\n",
       "      <td>109.75</td>\n",
       "      <td>109.9400</td>\n",
       "      <td>109.6800</td>\n",
       "      <td>109.8850</td>\n",
       "      <td>1613467.0</td>\n",
       "      <td>0.000726</td>\n",
       "      <td>244.0200</td>\n",
       "      <td>244.80</td>\n",
       "      <td>243.75</td>\n",
       "      <td>244.110</td>\n",
       "      <td>56404847</td>\n",
       "      <td>0.001313</td>\n",
       "    </tr>\n",
       "    <tr>\n",
       "      <th>2017-08-14</th>\n",
       "      <td>109.84</td>\n",
       "      <td>109.8969</td>\n",
       "      <td>109.7400</td>\n",
       "      <td>109.8100</td>\n",
       "      <td>2002026.0</td>\n",
       "      <td>-0.000683</td>\n",
       "      <td>245.5900</td>\n",
       "      <td>246.79</td>\n",
       "      <td>245.55</td>\n",
       "      <td>246.520</td>\n",
       "      <td>49018104</td>\n",
       "      <td>0.009873</td>\n",
       "    </tr>\n",
       "    <tr>\n",
       "      <th>...</th>\n",
       "      <td>...</td>\n",
       "      <td>...</td>\n",
       "      <td>...</td>\n",
       "      <td>...</td>\n",
       "      <td>...</td>\n",
       "      <td>...</td>\n",
       "      <td>...</td>\n",
       "      <td>...</td>\n",
       "      <td>...</td>\n",
       "      <td>...</td>\n",
       "      <td>...</td>\n",
       "      <td>...</td>\n",
       "    </tr>\n",
       "    <tr>\n",
       "      <th>2020-08-03</th>\n",
       "      <td>119.37</td>\n",
       "      <td>119.4000</td>\n",
       "      <td>119.1903</td>\n",
       "      <td>119.4000</td>\n",
       "      <td>17837420.0</td>\n",
       "      <td>-0.001338</td>\n",
       "      <td>328.3200</td>\n",
       "      <td>329.62</td>\n",
       "      <td>327.73</td>\n",
       "      <td>328.760</td>\n",
       "      <td>71741125</td>\n",
       "      <td>0.006768</td>\n",
       "    </tr>\n",
       "    <tr>\n",
       "      <th>2020-08-04</th>\n",
       "      <td>119.42</td>\n",
       "      <td>119.6300</td>\n",
       "      <td>119.4200</td>\n",
       "      <td>119.6300</td>\n",
       "      <td>21512268.0</td>\n",
       "      <td>0.001926</td>\n",
       "      <td>327.8600</td>\n",
       "      <td>330.06</td>\n",
       "      <td>327.86</td>\n",
       "      <td>330.030</td>\n",
       "      <td>73684427</td>\n",
       "      <td>0.003863</td>\n",
       "    </tr>\n",
       "    <tr>\n",
       "      <th>2020-08-05</th>\n",
       "      <td>119.39</td>\n",
       "      <td>119.4900</td>\n",
       "      <td>119.3100</td>\n",
       "      <td>119.4000</td>\n",
       "      <td>34175883.0</td>\n",
       "      <td>-0.001923</td>\n",
       "      <td>331.4700</td>\n",
       "      <td>332.39</td>\n",
       "      <td>331.18</td>\n",
       "      <td>332.060</td>\n",
       "      <td>72846458</td>\n",
       "      <td>0.006151</td>\n",
       "    </tr>\n",
       "    <tr>\n",
       "      <th>2020-08-06</th>\n",
       "      <td>119.62</td>\n",
       "      <td>119.7300</td>\n",
       "      <td>119.5300</td>\n",
       "      <td>119.5800</td>\n",
       "      <td>9009216.0</td>\n",
       "      <td>0.001508</td>\n",
       "      <td>331.4799</td>\n",
       "      <td>334.46</td>\n",
       "      <td>331.13</td>\n",
       "      <td>334.310</td>\n",
       "      <td>76900649</td>\n",
       "      <td>0.006776</td>\n",
       "    </tr>\n",
       "    <tr>\n",
       "      <th>2020-08-07</th>\n",
       "      <td>119.66</td>\n",
       "      <td>119.7300</td>\n",
       "      <td>119.3950</td>\n",
       "      <td>119.4450</td>\n",
       "      <td>8830420.0</td>\n",
       "      <td>-0.001129</td>\n",
       "      <td>333.2800</td>\n",
       "      <td>334.88</td>\n",
       "      <td>332.30</td>\n",
       "      <td>334.550</td>\n",
       "      <td>98710236</td>\n",
       "      <td>0.000718</td>\n",
       "    </tr>\n",
       "  </tbody>\n",
       "</table>\n",
       "<p>755 rows × 12 columns</p>\n",
       "</div>"
      ],
      "text/plain": [
       "               AGG                                                         \\\n",
       "              open      high       low     close      volume daily_return   \n",
       "2017-08-08  109.67  109.6900  109.5000  109.5810   1998999.0    -0.000948   \n",
       "2017-08-09  109.87  109.8700  109.6600  109.6700   2069028.0     0.000812   \n",
       "2017-08-10  109.70  109.8500  109.6700  109.8053   1691677.0     0.001234   \n",
       "2017-08-11  109.75  109.9400  109.6800  109.8850   1613467.0     0.000726   \n",
       "2017-08-14  109.84  109.8969  109.7400  109.8100   2002026.0    -0.000683   \n",
       "...            ...       ...       ...       ...         ...          ...   \n",
       "2020-08-03  119.37  119.4000  119.1903  119.4000  17837420.0    -0.001338   \n",
       "2020-08-04  119.42  119.6300  119.4200  119.6300  21512268.0     0.001926   \n",
       "2020-08-05  119.39  119.4900  119.3100  119.4000  34175883.0    -0.001923   \n",
       "2020-08-06  119.62  119.7300  119.5300  119.5800   9009216.0     0.001508   \n",
       "2020-08-07  119.66  119.7300  119.3950  119.4450   8830420.0    -0.001129   \n",
       "\n",
       "                 SPY                                                  \n",
       "                open    high     low    close    volume daily_return  \n",
       "2017-08-08  247.5100  248.91  246.83  247.291  44619069    -0.002255  \n",
       "2017-08-09  246.4700  247.31  246.06  247.230  48543032    -0.000247  \n",
       "2017-08-10  246.2800  246.44  243.70  243.790  87857827    -0.013914  \n",
       "2017-08-11  244.0200  244.80  243.75  244.110  56404847     0.001313  \n",
       "2017-08-14  245.5900  246.79  245.55  246.520  49018104     0.009873  \n",
       "...              ...     ...     ...      ...       ...          ...  \n",
       "2020-08-03  328.3200  329.62  327.73  328.760  71741125     0.006768  \n",
       "2020-08-04  327.8600  330.06  327.86  330.030  73684427     0.003863  \n",
       "2020-08-05  331.4700  332.39  331.18  332.060  72846458     0.006151  \n",
       "2020-08-06  331.4799  334.46  331.13  334.310  76900649     0.006776  \n",
       "2020-08-07  333.2800  334.88  332.30  334.550  98710236     0.000718  \n",
       "\n",
       "[755 rows x 12 columns]"
      ]
     },
     "execution_count": 70,
     "metadata": {},
     "output_type": "execute_result"
    }
   ],
   "source": [
    "# Configure a Monte Carlo simulation to forecast 10 years cumulative returns\n",
    "# The weights should be split 20% to AGG and 80% to SPY.\n",
    "# Run 500 samples.\n",
    "ten_year_simulation = MCSimulation(\n",
    "    portfolio_data=df_portfolio_3year,\n",
    "    weights=[0.25, 0.75],\n",
    "    num_simulation=500,\n",
    "    num_trading_days=2520,\n",
    ")\n",
    "\n",
    "# Review the simulation input data\n",
    "ten_year_simulation.portfolio_data.dropna()\n"
   ]
  },
  {
   "cell_type": "code",
   "execution_count": 71,
   "metadata": {},
   "outputs": [
    {
     "name": "stdout",
     "output_type": "stream",
     "text": [
      "Running Monte Carlo simulation number 0.\n",
      "Running Monte Carlo simulation number 10.\n",
      "Running Monte Carlo simulation number 20.\n",
      "Running Monte Carlo simulation number 30.\n",
      "Running Monte Carlo simulation number 40.\n",
      "Running Monte Carlo simulation number 50.\n",
      "Running Monte Carlo simulation number 60.\n",
      "Running Monte Carlo simulation number 70.\n",
      "Running Monte Carlo simulation number 80.\n",
      "Running Monte Carlo simulation number 90.\n",
      "Running Monte Carlo simulation number 100.\n"
     ]
    },
    {
     "name": "stderr",
     "output_type": "stream",
     "text": [
      "/Users/johannmaiga/Downloads/MyFiles/FinTech Class/Repos/Financial_Planner_Tools/MCForecastTools.py:117: PerformanceWarning: DataFrame is highly fragmented.  This is usually the result of calling `frame.insert` many times, which has poor performance.  Consider joining all columns at once using pd.concat(axis=1) instead.  To get a de-fragmented frame, use `newframe = frame.copy()`\n",
      "  portfolio_cumulative_returns[n] = (1 + sim_df.fillna(0)).cumprod()\n"
     ]
    },
    {
     "name": "stdout",
     "output_type": "stream",
     "text": [
      "Running Monte Carlo simulation number 110.\n",
      "Running Monte Carlo simulation number 120.\n",
      "Running Monte Carlo simulation number 130.\n",
      "Running Monte Carlo simulation number 140.\n",
      "Running Monte Carlo simulation number 150.\n",
      "Running Monte Carlo simulation number 160.\n",
      "Running Monte Carlo simulation number 170.\n",
      "Running Monte Carlo simulation number 180.\n",
      "Running Monte Carlo simulation number 190.\n",
      "Running Monte Carlo simulation number 200.\n",
      "Running Monte Carlo simulation number 210.\n",
      "Running Monte Carlo simulation number 220.\n",
      "Running Monte Carlo simulation number 230.\n",
      "Running Monte Carlo simulation number 240.\n",
      "Running Monte Carlo simulation number 250.\n",
      "Running Monte Carlo simulation number 260.\n",
      "Running Monte Carlo simulation number 270.\n",
      "Running Monte Carlo simulation number 280.\n",
      "Running Monte Carlo simulation number 290.\n",
      "Running Monte Carlo simulation number 300.\n",
      "Running Monte Carlo simulation number 310.\n",
      "Running Monte Carlo simulation number 320.\n",
      "Running Monte Carlo simulation number 330.\n",
      "Running Monte Carlo simulation number 340.\n",
      "Running Monte Carlo simulation number 350.\n",
      "Running Monte Carlo simulation number 360.\n",
      "Running Monte Carlo simulation number 370.\n",
      "Running Monte Carlo simulation number 380.\n",
      "Running Monte Carlo simulation number 390.\n",
      "Running Monte Carlo simulation number 400.\n",
      "Running Monte Carlo simulation number 410.\n",
      "Running Monte Carlo simulation number 420.\n",
      "Running Monte Carlo simulation number 430.\n",
      "Running Monte Carlo simulation number 440.\n",
      "Running Monte Carlo simulation number 450.\n",
      "Running Monte Carlo simulation number 460.\n",
      "Running Monte Carlo simulation number 470.\n",
      "Running Monte Carlo simulation number 480.\n",
      "Running Monte Carlo simulation number 490.\n"
     ]
    },
    {
     "data": {
      "text/html": [
       "<div>\n",
       "<style scoped>\n",
       "    .dataframe tbody tr th:only-of-type {\n",
       "        vertical-align: middle;\n",
       "    }\n",
       "\n",
       "    .dataframe tbody tr th {\n",
       "        vertical-align: top;\n",
       "    }\n",
       "\n",
       "    .dataframe thead th {\n",
       "        text-align: right;\n",
       "    }\n",
       "</style>\n",
       "<table border=\"1\" class=\"dataframe\">\n",
       "  <thead>\n",
       "    <tr style=\"text-align: right;\">\n",
       "      <th></th>\n",
       "      <th>0</th>\n",
       "      <th>1</th>\n",
       "      <th>2</th>\n",
       "      <th>3</th>\n",
       "      <th>4</th>\n",
       "      <th>5</th>\n",
       "      <th>6</th>\n",
       "      <th>7</th>\n",
       "      <th>8</th>\n",
       "      <th>9</th>\n",
       "      <th>...</th>\n",
       "      <th>490</th>\n",
       "      <th>491</th>\n",
       "      <th>492</th>\n",
       "      <th>493</th>\n",
       "      <th>494</th>\n",
       "      <th>495</th>\n",
       "      <th>496</th>\n",
       "      <th>497</th>\n",
       "      <th>498</th>\n",
       "      <th>499</th>\n",
       "    </tr>\n",
       "  </thead>\n",
       "  <tbody>\n",
       "    <tr>\n",
       "      <th>0</th>\n",
       "      <td>1.000000</td>\n",
       "      <td>1.000000</td>\n",
       "      <td>1.000000</td>\n",
       "      <td>1.000000</td>\n",
       "      <td>1.000000</td>\n",
       "      <td>1.000000</td>\n",
       "      <td>1.000000</td>\n",
       "      <td>1.000000</td>\n",
       "      <td>1.000000</td>\n",
       "      <td>1.000000</td>\n",
       "      <td>...</td>\n",
       "      <td>1.000000</td>\n",
       "      <td>1.000000</td>\n",
       "      <td>1.000000</td>\n",
       "      <td>1.000000</td>\n",
       "      <td>1.000000</td>\n",
       "      <td>1.000000</td>\n",
       "      <td>1.000000</td>\n",
       "      <td>1.000000</td>\n",
       "      <td>1.000000</td>\n",
       "      <td>1.000000</td>\n",
       "    </tr>\n",
       "    <tr>\n",
       "      <th>1</th>\n",
       "      <td>0.992853</td>\n",
       "      <td>0.993978</td>\n",
       "      <td>0.998245</td>\n",
       "      <td>1.016465</td>\n",
       "      <td>0.985849</td>\n",
       "      <td>0.990436</td>\n",
       "      <td>0.973976</td>\n",
       "      <td>0.989261</td>\n",
       "      <td>0.988181</td>\n",
       "      <td>0.998003</td>\n",
       "      <td>...</td>\n",
       "      <td>1.012755</td>\n",
       "      <td>1.007701</td>\n",
       "      <td>1.013223</td>\n",
       "      <td>0.985841</td>\n",
       "      <td>0.988767</td>\n",
       "      <td>0.985303</td>\n",
       "      <td>0.992359</td>\n",
       "      <td>1.016994</td>\n",
       "      <td>1.011501</td>\n",
       "      <td>0.991203</td>\n",
       "    </tr>\n",
       "    <tr>\n",
       "      <th>2</th>\n",
       "      <td>1.006373</td>\n",
       "      <td>0.987729</td>\n",
       "      <td>1.003366</td>\n",
       "      <td>1.027040</td>\n",
       "      <td>0.995608</td>\n",
       "      <td>0.976639</td>\n",
       "      <td>0.974652</td>\n",
       "      <td>0.986289</td>\n",
       "      <td>1.005721</td>\n",
       "      <td>1.009189</td>\n",
       "      <td>...</td>\n",
       "      <td>1.018243</td>\n",
       "      <td>1.020069</td>\n",
       "      <td>1.004466</td>\n",
       "      <td>0.984036</td>\n",
       "      <td>1.002152</td>\n",
       "      <td>0.995130</td>\n",
       "      <td>0.994799</td>\n",
       "      <td>1.023034</td>\n",
       "      <td>1.023314</td>\n",
       "      <td>0.990081</td>\n",
       "    </tr>\n",
       "    <tr>\n",
       "      <th>3</th>\n",
       "      <td>1.004287</td>\n",
       "      <td>0.978217</td>\n",
       "      <td>0.996652</td>\n",
       "      <td>1.025730</td>\n",
       "      <td>1.000255</td>\n",
       "      <td>0.955235</td>\n",
       "      <td>0.961746</td>\n",
       "      <td>1.000003</td>\n",
       "      <td>0.994423</td>\n",
       "      <td>1.007097</td>\n",
       "      <td>...</td>\n",
       "      <td>1.026008</td>\n",
       "      <td>1.037089</td>\n",
       "      <td>1.005911</td>\n",
       "      <td>0.974699</td>\n",
       "      <td>0.995935</td>\n",
       "      <td>1.002619</td>\n",
       "      <td>0.981944</td>\n",
       "      <td>1.018115</td>\n",
       "      <td>1.025432</td>\n",
       "      <td>0.979300</td>\n",
       "    </tr>\n",
       "    <tr>\n",
       "      <th>4</th>\n",
       "      <td>1.022560</td>\n",
       "      <td>0.985791</td>\n",
       "      <td>1.017204</td>\n",
       "      <td>1.000186</td>\n",
       "      <td>1.008613</td>\n",
       "      <td>0.942527</td>\n",
       "      <td>0.941884</td>\n",
       "      <td>1.000157</td>\n",
       "      <td>0.995452</td>\n",
       "      <td>1.016935</td>\n",
       "      <td>...</td>\n",
       "      <td>1.014393</td>\n",
       "      <td>1.059975</td>\n",
       "      <td>1.012968</td>\n",
       "      <td>0.972521</td>\n",
       "      <td>0.989726</td>\n",
       "      <td>1.004039</td>\n",
       "      <td>0.964816</td>\n",
       "      <td>1.013523</td>\n",
       "      <td>1.025830</td>\n",
       "      <td>0.986059</td>\n",
       "    </tr>\n",
       "    <tr>\n",
       "      <th>...</th>\n",
       "      <td>...</td>\n",
       "      <td>...</td>\n",
       "      <td>...</td>\n",
       "      <td>...</td>\n",
       "      <td>...</td>\n",
       "      <td>...</td>\n",
       "      <td>...</td>\n",
       "      <td>...</td>\n",
       "      <td>...</td>\n",
       "      <td>...</td>\n",
       "      <td>...</td>\n",
       "      <td>...</td>\n",
       "      <td>...</td>\n",
       "      <td>...</td>\n",
       "      <td>...</td>\n",
       "      <td>...</td>\n",
       "      <td>...</td>\n",
       "      <td>...</td>\n",
       "      <td>...</td>\n",
       "      <td>...</td>\n",
       "      <td>...</td>\n",
       "    </tr>\n",
       "    <tr>\n",
       "      <th>2516</th>\n",
       "      <td>1.443261</td>\n",
       "      <td>9.922323</td>\n",
       "      <td>3.482728</td>\n",
       "      <td>1.990073</td>\n",
       "      <td>2.163021</td>\n",
       "      <td>0.851190</td>\n",
       "      <td>3.484094</td>\n",
       "      <td>3.110431</td>\n",
       "      <td>1.592020</td>\n",
       "      <td>0.874239</td>\n",
       "      <td>...</td>\n",
       "      <td>4.171976</td>\n",
       "      <td>2.692980</td>\n",
       "      <td>5.984275</td>\n",
       "      <td>1.033683</td>\n",
       "      <td>1.094263</td>\n",
       "      <td>2.162183</td>\n",
       "      <td>8.500398</td>\n",
       "      <td>5.276584</td>\n",
       "      <td>3.470379</td>\n",
       "      <td>1.622765</td>\n",
       "    </tr>\n",
       "    <tr>\n",
       "      <th>2517</th>\n",
       "      <td>1.450326</td>\n",
       "      <td>9.845045</td>\n",
       "      <td>3.507911</td>\n",
       "      <td>2.004898</td>\n",
       "      <td>2.167524</td>\n",
       "      <td>0.850141</td>\n",
       "      <td>3.483778</td>\n",
       "      <td>3.151116</td>\n",
       "      <td>1.600803</td>\n",
       "      <td>0.870214</td>\n",
       "      <td>...</td>\n",
       "      <td>4.151154</td>\n",
       "      <td>2.698331</td>\n",
       "      <td>6.001349</td>\n",
       "      <td>1.037525</td>\n",
       "      <td>1.082175</td>\n",
       "      <td>2.170124</td>\n",
       "      <td>8.555461</td>\n",
       "      <td>5.234446</td>\n",
       "      <td>3.478711</td>\n",
       "      <td>1.612759</td>\n",
       "    </tr>\n",
       "    <tr>\n",
       "      <th>2518</th>\n",
       "      <td>1.452400</td>\n",
       "      <td>9.817131</td>\n",
       "      <td>3.482562</td>\n",
       "      <td>2.012629</td>\n",
       "      <td>2.166812</td>\n",
       "      <td>0.848101</td>\n",
       "      <td>3.455285</td>\n",
       "      <td>3.181178</td>\n",
       "      <td>1.607696</td>\n",
       "      <td>0.877479</td>\n",
       "      <td>...</td>\n",
       "      <td>4.198173</td>\n",
       "      <td>2.665697</td>\n",
       "      <td>6.024599</td>\n",
       "      <td>1.027281</td>\n",
       "      <td>1.078048</td>\n",
       "      <td>2.136694</td>\n",
       "      <td>8.663884</td>\n",
       "      <td>5.275997</td>\n",
       "      <td>3.511673</td>\n",
       "      <td>1.583551</td>\n",
       "    </tr>\n",
       "    <tr>\n",
       "      <th>2519</th>\n",
       "      <td>1.442245</td>\n",
       "      <td>9.932072</td>\n",
       "      <td>3.489939</td>\n",
       "      <td>2.019355</td>\n",
       "      <td>2.163791</td>\n",
       "      <td>0.854764</td>\n",
       "      <td>3.477114</td>\n",
       "      <td>3.182540</td>\n",
       "      <td>1.595759</td>\n",
       "      <td>0.885346</td>\n",
       "      <td>...</td>\n",
       "      <td>4.107324</td>\n",
       "      <td>2.690971</td>\n",
       "      <td>5.965127</td>\n",
       "      <td>1.024161</td>\n",
       "      <td>1.075789</td>\n",
       "      <td>2.170749</td>\n",
       "      <td>8.571140</td>\n",
       "      <td>5.338199</td>\n",
       "      <td>3.464101</td>\n",
       "      <td>1.593544</td>\n",
       "    </tr>\n",
       "    <tr>\n",
       "      <th>2520</th>\n",
       "      <td>1.414979</td>\n",
       "      <td>9.831973</td>\n",
       "      <td>3.531190</td>\n",
       "      <td>2.043785</td>\n",
       "      <td>2.131960</td>\n",
       "      <td>0.837887</td>\n",
       "      <td>3.569429</td>\n",
       "      <td>3.168950</td>\n",
       "      <td>1.592955</td>\n",
       "      <td>0.865517</td>\n",
       "      <td>...</td>\n",
       "      <td>4.186757</td>\n",
       "      <td>2.671905</td>\n",
       "      <td>5.934110</td>\n",
       "      <td>1.030045</td>\n",
       "      <td>1.076695</td>\n",
       "      <td>2.172651</td>\n",
       "      <td>8.678827</td>\n",
       "      <td>5.494933</td>\n",
       "      <td>3.492402</td>\n",
       "      <td>1.593606</td>\n",
       "    </tr>\n",
       "  </tbody>\n",
       "</table>\n",
       "<p>2521 rows × 500 columns</p>\n",
       "</div>"
      ],
      "text/plain": [
       "           0         1         2         3         4         5         6    \\\n",
       "0     1.000000  1.000000  1.000000  1.000000  1.000000  1.000000  1.000000   \n",
       "1     0.992853  0.993978  0.998245  1.016465  0.985849  0.990436  0.973976   \n",
       "2     1.006373  0.987729  1.003366  1.027040  0.995608  0.976639  0.974652   \n",
       "3     1.004287  0.978217  0.996652  1.025730  1.000255  0.955235  0.961746   \n",
       "4     1.022560  0.985791  1.017204  1.000186  1.008613  0.942527  0.941884   \n",
       "...        ...       ...       ...       ...       ...       ...       ...   \n",
       "2516  1.443261  9.922323  3.482728  1.990073  2.163021  0.851190  3.484094   \n",
       "2517  1.450326  9.845045  3.507911  2.004898  2.167524  0.850141  3.483778   \n",
       "2518  1.452400  9.817131  3.482562  2.012629  2.166812  0.848101  3.455285   \n",
       "2519  1.442245  9.932072  3.489939  2.019355  2.163791  0.854764  3.477114   \n",
       "2520  1.414979  9.831973  3.531190  2.043785  2.131960  0.837887  3.569429   \n",
       "\n",
       "           7         8         9    ...       490       491       492  \\\n",
       "0     1.000000  1.000000  1.000000  ...  1.000000  1.000000  1.000000   \n",
       "1     0.989261  0.988181  0.998003  ...  1.012755  1.007701  1.013223   \n",
       "2     0.986289  1.005721  1.009189  ...  1.018243  1.020069  1.004466   \n",
       "3     1.000003  0.994423  1.007097  ...  1.026008  1.037089  1.005911   \n",
       "4     1.000157  0.995452  1.016935  ...  1.014393  1.059975  1.012968   \n",
       "...        ...       ...       ...  ...       ...       ...       ...   \n",
       "2516  3.110431  1.592020  0.874239  ...  4.171976  2.692980  5.984275   \n",
       "2517  3.151116  1.600803  0.870214  ...  4.151154  2.698331  6.001349   \n",
       "2518  3.181178  1.607696  0.877479  ...  4.198173  2.665697  6.024599   \n",
       "2519  3.182540  1.595759  0.885346  ...  4.107324  2.690971  5.965127   \n",
       "2520  3.168950  1.592955  0.865517  ...  4.186757  2.671905  5.934110   \n",
       "\n",
       "           493       494       495       496       497       498       499  \n",
       "0     1.000000  1.000000  1.000000  1.000000  1.000000  1.000000  1.000000  \n",
       "1     0.985841  0.988767  0.985303  0.992359  1.016994  1.011501  0.991203  \n",
       "2     0.984036  1.002152  0.995130  0.994799  1.023034  1.023314  0.990081  \n",
       "3     0.974699  0.995935  1.002619  0.981944  1.018115  1.025432  0.979300  \n",
       "4     0.972521  0.989726  1.004039  0.964816  1.013523  1.025830  0.986059  \n",
       "...        ...       ...       ...       ...       ...       ...       ...  \n",
       "2516  1.033683  1.094263  2.162183  8.500398  5.276584  3.470379  1.622765  \n",
       "2517  1.037525  1.082175  2.170124  8.555461  5.234446  3.478711  1.612759  \n",
       "2518  1.027281  1.078048  2.136694  8.663884  5.275997  3.511673  1.583551  \n",
       "2519  1.024161  1.075789  2.170749  8.571140  5.338199  3.464101  1.593544  \n",
       "2520  1.030045  1.076695  2.172651  8.678827  5.494933  3.492402  1.593606  \n",
       "\n",
       "[2521 rows x 500 columns]"
      ]
     },
     "execution_count": 71,
     "metadata": {},
     "output_type": "execute_result"
    }
   ],
   "source": [
    "# Run the Monte Carlo simulation to forecast 10 years cumulative returns\n",
    "ten_year_simulation.calc_cumulative_return()\n"
   ]
  },
  {
   "cell_type": "code",
   "execution_count": 73,
   "metadata": {},
   "outputs": [
    {
     "data": {
      "text/plain": [
       "<AxesSubplot:title={'center':'500 Simulations of Cumulative Portfolio Return Trajectories Over the Next 2520 Trading Days.'}>"
      ]
     },
     "execution_count": 73,
     "metadata": {},
     "output_type": "execute_result"
    },
    {
     "data": {
      "image/png": "[encoded data removed]",
      "text/plain": [
       "<Figure size 432x288 with 1 Axes>"
      ]
     },
     "metadata": {
      "needs_background": "light"
     },
     "output_type": "display_data"
    }
   ],
   "source": [
    "# Visualize the 10-year Monte Carlo simulation by creating an\n",
    "# overlay line plot\n",
    "ten_year_simulation.plot_simulation()\n"
   ]
  },
  {
   "cell_type": "code",
   "execution_count": 74,
   "metadata": {},
   "outputs": [
    {
     "data": {
      "text/plain": [
       "<AxesSubplot:title={'center':'Distribution of Final Cumuluative Returns Across All 500 Simulations'}, ylabel='Frequency'>"
      ]
     },
     "execution_count": 74,
     "metadata": {},
     "output_type": "execute_result"
    },
    {
     "data": {
      "image/png": "[encoded data removed]",
      "text/plain": [
       "<Figure size 432x288 with 1 Axes>"
      ]
     },
     "metadata": {
      "needs_background": "light"
     },
     "output_type": "display_data"
    }
   ],
   "source": [
    "# Visualize the probability distribution of the 10-year Monte Carlo simulation \n",
    "# by plotting a histogram\n",
    "ten_year_simulation.plot_distribution()\n"
   ]
  },
  {
   "cell_type": "code",
   "execution_count": 75,
   "metadata": {},
   "outputs": [
    {
     "data": {
      "text/plain": [
       "count           500.000000\n",
       "mean              2.717094\n",
       "std               1.698619\n",
       "min               0.313614\n",
       "25%               1.566793\n",
       "50%               2.269431\n",
       "75%               3.273162\n",
       "max              12.752206\n",
       "95% CI Lower      0.800050\n",
       "95% CI Upper      7.412404\n",
       "Name: 2520, dtype: float64"
      ]
     },
     "execution_count": 75,
     "metadata": {},
     "output_type": "execute_result"
    }
   ],
   "source": [
    "# Generate summary statistics from the 10-year Monte Carlo simulation results\n",
    "# Save the results as a variable\n",
    "mc_summary_10y = ten_year_simulation.summarize_cumulative_return()\n",
    "\n",
    "\n",
    "# Review the 10-year Monte Carlo summary statistics\n",
    "mc_summary_10y"
   ]
  },
  {
   "cell_type": "markdown",
   "metadata": {},
   "source": [
    "### Answer the following questions:"
   ]
  },
  {
   "cell_type": "markdown",
   "metadata": {},
   "source": [
    "#### Question: Using the current value of only the stock and bond portion of the member's portfolio and the summary statistics that you generated from the new Monte Carlo simulation, what are the lower and upper bounds for the expected value of the portfolio (with the new weights) with a 95% confidence interval?"
   ]
  },
  {
   "cell_type": "code",
   "execution_count": 84,
   "metadata": {},
   "outputs": [
    {
     "data": {
      "text/plain": [
       "60689.5"
      ]
     },
     "execution_count": 84,
     "metadata": {},
     "output_type": "execute_result"
    }
   ],
   "source": [
    "# Print the current balance of the stock and bond portion of the members portfolio\n",
    "total_sb\n"
   ]
  },
  {
   "cell_type": "code",
   "execution_count": 86,
   "metadata": {},
   "outputs": [
    {
     "name": "stdout",
     "output_type": "stream",
     "text": [
      "There is a 95% chance that an initial investment of $60689.5 in the portfolio over the next 10 years will end within in the range of $48554.65 and $449855.06.\n"
     ]
    }
   ],
   "source": [
    "# Use the lower and upper `95%` confidence intervals to calculate the range of the possible outcomes for the current stock/bond portfolio\n",
    "ci_lower_ten_cumulative_return = round(mc_summary_10y[8]*total_sb,2)\n",
    "ci_upper_ten_cumulative_return = round(mc_summary_10y[9]*total_sb,2)\n",
    "\n",
    "# Print the result of your calculations\n",
    "print(f\"There is a 95% chance that an initial investment of ${total_sb} in the portfolio\"\n",
    "      f\" over the next 10 years will end within in the range of\"\n",
    "      f\" ${ci_lower_ten_cumulative_return} and ${ci_upper_ten_cumulative_return}.\")\n"
   ]
  },
  {
   "cell_type": "markdown",
   "metadata": {},
   "source": [
    "#### Question: Will weighting the portfolio more heavily to stocks allow the credit union members to retire after only 10 years?"
   ]
  },
  {
   "cell_type": "raw",
   "metadata": {},
   "source": [
    "Yes, weighting the portfolio more heavily to stocks allow the credit union members to retire after only 10 years. "
   ]
  }
 ],
 "metadata": {
  "interpreter": {
   "hash": "7869c662c8a6f446188a32e32fc890b6a582dec6cee26594b9b99aec6f2cb252"
  },
  "kernelspec": {
   "display_name": "Python 3.9.7 64-bit ('dev': conda)",
   "name": "python3"
  },
  "language_info": {
   "codemirror_mode": {
    "name": "ipython",
    "version": 3
   },
   "file_extension": ".py",
   "mimetype": "text/x-python",
   "name": "python",
   "nbconvert_exporter": "python",
   "pygments_lexer": "ipython3",
   "version": "3.9.7"
  }
 },
 "nbformat": 4,
 "nbformat_minor": 4
}
